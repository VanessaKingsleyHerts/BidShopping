{
 "cells": [
  {
   "cell_type": "code",
   "execution_count": 23,
   "id": "e3b3e7d6",
   "metadata": {},
   "outputs": [],
   "source": [
    "# Load and Preprocess the Dataset\n",
    "\n",
    "import pandas as pd\n",
    "import numpy as np\n",
    "\n",
    "# Load the data\n",
    "df = pd.read_csv(\"all_logs.csv\")\n",
    "\n",
    "# Create features\n",
    "df[\"log_duration\"] = np.log1p(df[\"duration_s\"])\n",
    "df[\"mem_mb\"] = df[\"mem_kb_max\"] / 1024\n",
    "df[\"timestamp\"] = pd.to_datetime(df[\"timestamp\"])\n",
    "df[\"hour\"] = df[\"timestamp\"].dt.hour\n",
    "df[\"dayofweek\"] = df[\"timestamp\"].dt.dayofweek\n",
    "df[\"tag_code\"] = df[\"tag\"].map({\"build\": 0, \"lint\": 1, \"test\": 2})\n",
    "df[\"status_label\"] = df[\"status\"].map({\"pass\": 1, \"fail\": 0})\n",
    "\n",
    "# Select features and labels\n",
    "features = [\"log_duration\", \"cpu_pct_avg\", \"mem_mb\", \"hour\", \"dayofweek\", \"tag_code\"]\n",
    "X = df[features].values\n",
    "y = df[\"status_label\"].values"
   ]
  },
  {
   "cell_type": "code",
   "execution_count": 24,
   "id": "0aa431fa",
   "metadata": {},
   "outputs": [],
   "source": [
    "# Standardize and Split the Data\n",
    "\n",
    "from sklearn.preprocessing import StandardScaler\n",
    "from sklearn.model_selection import train_test_split\n",
    "\n",
    "# Scale features\n",
    "scaler = StandardScaler()\n",
    "X_scaled = scaler.fit_transform(X)\n",
    "\n",
    "# Split the dataset (80% train, 20% test)\n",
    "X_train, X_test, y_train, y_test = train_test_split(\n",
    "    X_scaled, y, test_size=0.2, random_state=42\n",
    ")"
   ]
  },
  {
   "cell_type": "code",
   "execution_count": 25,
   "id": "4a3b89ee",
   "metadata": {},
   "outputs": [
    {
     "name": "stdout",
     "output_type": "stream",
     "text": [
      "              precision    recall  f1-score   support\n",
      "\n",
      "           0       0.75      0.50      0.60        18\n",
      "           1       0.91      0.97      0.94        95\n",
      "\n",
      "    accuracy                           0.89       113\n",
      "   macro avg       0.83      0.73      0.77       113\n",
      "weighted avg       0.89      0.89      0.88       113\n",
      "\n",
      "F1-score: 0.9387755102040817\n"
     ]
    }
   ],
   "source": [
    "# Decision Tree\n",
    "\n",
    "from sklearn.tree import DecisionTreeClassifier\n",
    "from sklearn.metrics import f1_score, classification_report\n",
    "\n",
    "dt = DecisionTreeClassifier(max_depth=5)\n",
    "dt.fit(X_train, y_train)\n",
    "y_pred_dt = dt.predict(X_test)\n",
    "\n",
    "print(classification_report(y_test, y_pred_dt))\n",
    "print(\"F1-score:\", f1_score(y_test, y_pred_dt))"
   ]
  },
  {
   "cell_type": "code",
   "execution_count": 26,
   "id": "f3dc5ae2",
   "metadata": {},
   "outputs": [
    {
     "name": "stdout",
     "output_type": "stream",
     "text": [
      "              precision    recall  f1-score   support\n",
      "\n",
      "           0       1.00      0.56      0.71        18\n",
      "           1       0.92      1.00      0.96        95\n",
      "\n",
      "    accuracy                           0.93       113\n",
      "   macro avg       0.96      0.78      0.84       113\n",
      "weighted avg       0.93      0.93      0.92       113\n",
      "\n",
      "F1-score (RF): 0.9595959595959596\n"
     ]
    }
   ],
   "source": [
    "# Random Forest\n",
    "\n",
    "from sklearn.ensemble import RandomForestClassifier\n",
    "\n",
    "rf = RandomForestClassifier(n_estimators=100, random_state=42)\n",
    "rf.fit(X_train, y_train)\n",
    "y_pred_rf = rf.predict(X_test)\n",
    "\n",
    "print(classification_report(y_test, y_pred_rf))\n",
    "print(\"F1-score (RF):\", f1_score(y_test, y_pred_rf))"
   ]
  },
  {
   "cell_type": "code",
   "execution_count": 27,
   "id": "44748d8a",
   "metadata": {},
   "outputs": [
    {
     "name": "stdout",
     "output_type": "stream",
     "text": [
      "              precision    recall  f1-score   support\n",
      "\n",
      "           0       0.83      0.28      0.42        18\n",
      "           1       0.88      0.99      0.93        95\n",
      "\n",
      "    accuracy                           0.88       113\n",
      "   macro avg       0.86      0.63      0.67       113\n",
      "weighted avg       0.87      0.88      0.85       113\n",
      "\n",
      "F1-score: 0.9306930693069307\n"
     ]
    }
   ],
   "source": [
    "#  Logistic Regression\n",
    "\n",
    "from sklearn.linear_model import LogisticRegression\n",
    "\n",
    "lr = LogisticRegression(max_iter=1000)\n",
    "lr.fit(X_train, y_train)\n",
    "y_pred_lr = lr.predict(X_test)\n",
    "\n",
    "print(classification_report(y_test, y_pred_lr))\n",
    "print(\"F1-score:\", f1_score(y_test, y_pred_lr))"
   ]
  },
  {
   "cell_type": "code",
   "execution_count": 28,
   "id": "1c0884b2",
   "metadata": {},
   "outputs": [
    {
     "name": "stdout",
     "output_type": "stream",
     "text": [
      "              precision    recall  f1-score   support\n",
      "\n",
      "           0       0.92      0.61      0.73        18\n",
      "           1       0.93      0.99      0.96        95\n",
      "\n",
      "    accuracy                           0.93       113\n",
      "   macro avg       0.92      0.80      0.85       113\n",
      "weighted avg       0.93      0.93      0.92       113\n",
      "\n",
      "F1-score: 0.9591836734693877\n"
     ]
    },
    {
     "name": "stderr",
     "output_type": "stream",
     "text": [
      "c:\\Users\\ehiva\\Desktop\\BidShopping\\venv\\Lib\\site-packages\\xgboost\\training.py:183: UserWarning: [19:20:58] WARNING: C:\\actions-runner\\_work\\xgboost\\xgboost\\src\\learner.cc:738: \n",
      "Parameters: { \"use_label_encoder\" } are not used.\n",
      "\n",
      "  bst.update(dtrain, iteration=i, fobj=obj)\n"
     ]
    }
   ],
   "source": [
    "# XGBoost\n",
    "\n",
    "from xgboost import XGBClassifier\n",
    "\n",
    "xgb = XGBClassifier(n_estimators=100, max_depth=4, use_label_encoder=False, eval_metric='logloss')\n",
    "xgb.fit(X_train, y_train)\n",
    "y_pred_xgb = xgb.predict(X_test)\n",
    "\n",
    "print(classification_report(y_test, y_pred_xgb))\n",
    "print(\"F1-score:\", f1_score(y_test, y_pred_xgb))"
   ]
  },
  {
   "cell_type": "code",
   "execution_count": 29,
   "id": "631a645a",
   "metadata": {},
   "outputs": [
    {
     "name": "stdout",
     "output_type": "stream",
     "text": [
      "\u001b[1m18/18\u001b[0m \u001b[32m━━━━━━━━━━━━━━━━━━━━\u001b[0m\u001b[37m\u001b[0m \u001b[1m0s\u001b[0m 2ms/step \n",
      "              precision    recall  f1-score   support\n",
      "\n",
      "           0       0.25      0.09      0.13        90\n",
      "           1       0.85      0.95      0.89       473\n",
      "\n",
      "    accuracy                           0.81       563\n",
      "   macro avg       0.55      0.52      0.51       563\n",
      "weighted avg       0.75      0.81      0.77       563\n",
      "\n",
      "F1-score (Autoencoder): 0.8944223107569721\n"
     ]
    }
   ],
   "source": [
    "# Autoencoder\n",
    "\n",
    "from keras.models import Model\n",
    "from keras.layers import Input, Dense\n",
    "from keras import regularizers\n",
    "\n",
    "input_dim = X_scaled.shape[1]\n",
    "input_layer = Input(shape=(input_dim,))\n",
    "encoded = Dense(4, activation='relu', activity_regularizer=regularizers.l1(1e-5))(input_layer)\n",
    "decoded = Dense(input_dim, activation='linear')(encoded)\n",
    "\n",
    "autoencoder = Model(inputs=input_layer, outputs=decoded)\n",
    "autoencoder.compile(optimizer='adam', loss='mse')\n",
    "autoencoder.fit(X_scaled, X_scaled, epochs=50, batch_size=16, validation_split=0.1, verbose=0)\n",
    "\n",
    "reconstructions = autoencoder.predict(X_scaled)\n",
    "mse = np.mean(np.power(X_scaled - reconstructions, 2), axis=1)\n",
    "threshold = np.percentile(mse[y == 1], 95)\n",
    "y_pred_ae = (mse <= threshold).astype(int)\n",
    "\n",
    "print(classification_report(y, y_pred_ae))\n",
    "print(\"F1-score (Autoencoder):\", f1_score(y, y_pred_ae))"
   ]
  },
  {
   "cell_type": "code",
   "execution_count": 30,
   "id": "9d8a2cc3",
   "metadata": {},
   "outputs": [
    {
     "name": "stdout",
     "output_type": "stream",
     "text": [
      "Epoch 1/20\n"
     ]
    },
    {
     "name": "stderr",
     "output_type": "stream",
     "text": [
      "c:\\Users\\ehiva\\Desktop\\BidShopping\\venv\\Lib\\site-packages\\keras\\src\\layers\\core\\masking.py:48: UserWarning: Do not pass an `input_shape`/`input_dim` argument to a layer. When using Sequential models, prefer using an `Input(shape)` object as the first layer in the model instead.\n",
      "  super().__init__(**kwargs)\n"
     ]
    },
    {
     "name": "stdout",
     "output_type": "stream",
     "text": [
      "\u001b[1m4/4\u001b[0m \u001b[32m━━━━━━━━━━━━━━━━━━━━\u001b[0m\u001b[37m\u001b[0m \u001b[1m1s\u001b[0m 78ms/step - accuracy: 0.5295 - loss: 0.6593 - val_accuracy: 0.7143 - val_loss: 0.7732\n",
      "Epoch 2/20\n",
      "\u001b[1m4/4\u001b[0m \u001b[32m━━━━━━━━━━━━━━━━━━━━\u001b[0m\u001b[37m\u001b[0m \u001b[1m0s\u001b[0m 21ms/step - accuracy: 0.7784 - loss: 0.6007 - val_accuracy: 0.7143 - val_loss: 0.7497\n",
      "Epoch 3/20\n",
      "\u001b[1m4/4\u001b[0m \u001b[32m━━━━━━━━━━━━━━━━━━━━\u001b[0m\u001b[37m\u001b[0m \u001b[1m0s\u001b[0m 20ms/step - accuracy: 0.8103 - loss: 0.5636 - val_accuracy: 0.7143 - val_loss: 0.7341\n",
      "Epoch 4/20\n",
      "\u001b[1m4/4\u001b[0m \u001b[32m━━━━━━━━━━━━━━━━━━━━\u001b[0m\u001b[37m\u001b[0m \u001b[1m0s\u001b[0m 17ms/step - accuracy: 0.8335 - loss: 0.5377 - val_accuracy: 0.7143 - val_loss: 0.7140\n",
      "Epoch 5/20\n",
      "\u001b[1m4/4\u001b[0m \u001b[32m━━━━━━━━━━━━━━━━━━━━\u001b[0m\u001b[37m\u001b[0m \u001b[1m0s\u001b[0m 21ms/step - accuracy: 0.7984 - loss: 0.5682 - val_accuracy: 0.7143 - val_loss: 0.6954\n",
      "Epoch 6/20\n",
      "\u001b[1m4/4\u001b[0m \u001b[32m━━━━━━━━━━━━━━━━━━━━\u001b[0m\u001b[37m\u001b[0m \u001b[1m0s\u001b[0m 17ms/step - accuracy: 0.8317 - loss: 0.5363 - val_accuracy: 0.7143 - val_loss: 0.6814\n",
      "Epoch 7/20\n",
      "\u001b[1m4/4\u001b[0m \u001b[32m━━━━━━━━━━━━━━━━━━━━\u001b[0m\u001b[37m\u001b[0m \u001b[1m0s\u001b[0m 18ms/step - accuracy: 0.7779 - loss: 0.5701 - val_accuracy: 0.7143 - val_loss: 0.6681\n",
      "Epoch 8/20\n",
      "\u001b[1m4/4\u001b[0m \u001b[32m━━━━━━━━━━━━━━━━━━━━\u001b[0m\u001b[37m\u001b[0m \u001b[1m0s\u001b[0m 17ms/step - accuracy: 0.7817 - loss: 0.5410 - val_accuracy: 0.7143 - val_loss: 0.6601\n",
      "Epoch 9/20\n",
      "\u001b[1m4/4\u001b[0m \u001b[32m━━━━━━━━━━━━━━━━━━━━\u001b[0m\u001b[37m\u001b[0m \u001b[1m0s\u001b[0m 23ms/step - accuracy: 0.7651 - loss: 0.5436 - val_accuracy: 0.7143 - val_loss: 0.6527\n",
      "Epoch 10/20\n",
      "\u001b[1m4/4\u001b[0m \u001b[32m━━━━━━━━━━━━━━━━━━━━\u001b[0m\u001b[37m\u001b[0m \u001b[1m0s\u001b[0m 17ms/step - accuracy: 0.7984 - loss: 0.4834 - val_accuracy: 0.7143 - val_loss: 0.6514\n",
      "Epoch 11/20\n",
      "\u001b[1m4/4\u001b[0m \u001b[32m━━━━━━━━━━━━━━━━━━━━\u001b[0m\u001b[37m\u001b[0m \u001b[1m0s\u001b[0m 23ms/step - accuracy: 0.8008 - loss: 0.5078 - val_accuracy: 0.7143 - val_loss: 0.6589\n",
      "Epoch 12/20\n",
      "\u001b[1m4/4\u001b[0m \u001b[32m━━━━━━━━━━━━━━━━━━━━\u001b[0m\u001b[37m\u001b[0m \u001b[1m0s\u001b[0m 16ms/step - accuracy: 0.7838 - loss: 0.4856 - val_accuracy: 0.7143 - val_loss: 0.6579\n",
      "Epoch 13/20\n",
      "\u001b[1m4/4\u001b[0m \u001b[32m━━━━━━━━━━━━━━━━━━━━\u001b[0m\u001b[37m\u001b[0m \u001b[1m0s\u001b[0m 14ms/step - accuracy: 0.7963 - loss: 0.4922 - val_accuracy: 0.7143 - val_loss: 0.6601\n",
      "Epoch 14/20\n",
      "\u001b[1m4/4\u001b[0m \u001b[32m━━━━━━━━━━━━━━━━━━━━\u001b[0m\u001b[37m\u001b[0m \u001b[1m0s\u001b[0m 18ms/step - accuracy: 0.8195 - loss: 0.4966 - val_accuracy: 0.7143 - val_loss: 0.6539\n",
      "Epoch 15/20\n",
      "\u001b[1m4/4\u001b[0m \u001b[32m━━━━━━━━━━━━━━━━━━━━\u001b[0m\u001b[37m\u001b[0m \u001b[1m0s\u001b[0m 17ms/step - accuracy: 0.8553 - loss: 0.4325 - val_accuracy: 0.7143 - val_loss: 0.6501\n",
      "Epoch 16/20\n",
      "\u001b[1m4/4\u001b[0m \u001b[32m━━━━━━━━━━━━━━━━━━━━\u001b[0m\u001b[37m\u001b[0m \u001b[1m0s\u001b[0m 16ms/step - accuracy: 0.7820 - loss: 0.4929 - val_accuracy: 0.7143 - val_loss: 0.6427\n",
      "Epoch 17/20\n",
      "\u001b[1m4/4\u001b[0m \u001b[32m━━━━━━━━━━━━━━━━━━━━\u001b[0m\u001b[37m\u001b[0m \u001b[1m0s\u001b[0m 20ms/step - accuracy: 0.8133 - loss: 0.4563 - val_accuracy: 0.7143 - val_loss: 0.6468\n",
      "Epoch 18/20\n",
      "\u001b[1m4/4\u001b[0m \u001b[32m━━━━━━━━━━━━━━━━━━━━\u001b[0m\u001b[37m\u001b[0m \u001b[1m0s\u001b[0m 20ms/step - accuracy: 0.8487 - loss: 0.3974 - val_accuracy: 0.7143 - val_loss: 0.6510\n",
      "Epoch 19/20\n",
      "\u001b[1m4/4\u001b[0m \u001b[32m━━━━━━━━━━━━━━━━━━━━\u001b[0m\u001b[37m\u001b[0m \u001b[1m0s\u001b[0m 16ms/step - accuracy: 0.8383 - loss: 0.4098 - val_accuracy: 0.7143 - val_loss: 0.6649\n",
      "Epoch 20/20\n",
      "\u001b[1m4/4\u001b[0m \u001b[32m━━━━━━━━━━━━━━━━━━━━\u001b[0m\u001b[37m\u001b[0m \u001b[1m0s\u001b[0m 16ms/step - accuracy: 0.8782 - loss: 0.3944 - val_accuracy: 0.7143 - val_loss: 0.6668\n",
      "\u001b[1m1/1\u001b[0m \u001b[32m━━━━━━━━━━━━━━━━━━━━\u001b[0m\u001b[37m\u001b[0m \u001b[1m0s\u001b[0m 136ms/step\n",
      "              precision    recall  f1-score   support\n",
      "\n",
      "        fail       0.80      0.57      0.67         7\n",
      "        pass       0.77      0.91      0.83        11\n",
      "\n",
      "    accuracy                           0.78        18\n",
      "   macro avg       0.78      0.74      0.75        18\n",
      "weighted avg       0.78      0.78      0.77        18\n",
      "\n",
      "F1-score (LSTM): 0.8333333333333334\n"
     ]
    }
   ],
   "source": [
    "# LSTM (Sequential)\n",
    "\n",
    "from keras.models import Sequential\n",
    "from keras.layers import LSTM, Dense, Masking\n",
    "from sklearn.utils import shuffle\n",
    "\n",
    "# Group logs per pipeline\n",
    "seq_len = 3\n",
    "tag_map = {\"build\": 0, \"lint\": 1, \"test\": 2}\n",
    "X_seq, y_seq = [], []\n",
    "\n",
    "\n",
    "for pid, group in df.groupby(\"pipeline_id\"):\n",
    "    group = group.sort_values(\"timestamp\")\n",
    "    feat_df = pd.DataFrame({\n",
    "        \"log_duration\": np.log1p(group[\"duration_s\"]),\n",
    "        \"cpu_pct_avg\": group[\"cpu_pct_avg\"],\n",
    "        \"mem_mb\": group[\"mem_kb_max\"] / 1024,\n",
    "        \"tag_code\": group[\"tag\"].map(tag_map)\n",
    "    })\n",
    "    arr = feat_df.values\n",
    "    if arr.shape[0] < seq_len:\n",
    "        arr = np.vstack([arr, np.zeros((seq_len - arr.shape[0], arr.shape[1]))])\n",
    "    else:\n",
    "        arr = arr[:seq_len]\n",
    "    label = int((group[\"status_label\"].mean() == 1))\n",
    "    X_seq.append(arr)\n",
    "    y_seq.append(label)\n",
    "\n",
    "X_seq, y_seq = shuffle(np.array(X_seq), np.array(y_seq), random_state=42)\n",
    "\n",
    "# Train/test split for sequence\n",
    "split = int(0.8 * len(X_seq))\n",
    "X_train_seq, X_test_seq = X_seq[:split], X_seq[split:]\n",
    "y_train_seq, y_test_seq = y_seq[:split], y_seq[split:]\n",
    "\n",
    "# Train LSTM\n",
    "model = Sequential([\n",
    "    Masking(mask_value=0.0, input_shape=(seq_len, X_seq.shape[2])),\n",
    "    LSTM(64),\n",
    "    Dense(1, activation=\"sigmoid\")\n",
    "])\n",
    "model.compile(optimizer=\"adam\", loss=\"binary_crossentropy\", metrics=[\"accuracy\"])\n",
    "model.fit(X_train_seq, y_train_seq, epochs=20, batch_size=16, validation_split=0.1, verbose=1)\n",
    "\n",
    "# Predict\n",
    "y_pred_lstm = (model.predict(X_test_seq) > 0.5).astype(int).flatten()\n",
    "\n",
    "print(classification_report(y_test_seq, y_pred_lstm, target_names=[\"fail\",\"pass\"]))\n",
    "print(\"F1-score (LSTM):\", f1_score(y_test_seq, y_pred_lstm))"
   ]
  },
  {
   "cell_type": "code",
   "execution_count": 31,
   "id": "fa8bd932",
   "metadata": {},
   "outputs": [
    {
     "name": "stdout",
     "output_type": "stream",
     "text": [
      "Decision Tree: 0.9387755102040817\n",
      "Random Forest: 0.9595959595959596\n",
      "Logistic Regression: 0.9306930693069307\n",
      "XGBoost: 0.9591836734693877\n",
      "Autoencoder: 0.8944223107569721\n",
      "LSTM: 0.8333333333333334\n"
     ]
    }
   ],
   "source": [
    "print(\"Decision Tree:\", f1_score(y_test, y_pred_dt))\n",
    "print(\"Random Forest:\", f1_score(y_test, y_pred_rf))\n",
    "print(\"Logistic Regression:\", f1_score(y_test, y_pred_lr))\n",
    "print(\"XGBoost:\", f1_score(y_test, y_pred_xgb))\n",
    "print(\"Autoencoder:\", f1_score(y, y_pred_ae))  # Full set\n",
    "print(\"LSTM:\", f1_score(y_test_seq, y_pred_lstm))"
   ]
  },
  {
   "cell_type": "code",
   "execution_count": 32,
   "id": "c707625a",
   "metadata": {},
   "outputs": [],
   "source": [
    "import os\n",
    "import joblib\n",
    "\n",
    "# Ensure directory exists\n",
    "os.makedirs(\"models\", exist_ok=True)\n",
    "\n",
    "# Random forest - Save both model and scaler\n",
    "joblib.dump(rf, \"models/rf_model.joblib\")\n",
    "joblib.dump(scaler, \"models/rf_scaler.joblib\")\n",
    "\n",
    "# LSTM - model\n",
    "model.save(\"models/lstm_model.keras\")"
   ]
  }
 ],
 "metadata": {
  "kernelspec": {
   "display_name": "venv",
   "language": "python",
   "name": "python3"
  },
  "language_info": {
   "codemirror_mode": {
    "name": "ipython",
    "version": 3
   },
   "file_extension": ".py",
   "mimetype": "text/x-python",
   "name": "python",
   "nbconvert_exporter": "python",
   "pygments_lexer": "ipython3",
   "version": "3.11.0"
  }
 },
 "nbformat": 4,
 "nbformat_minor": 5
}
