{
 "cells": [
  {
   "cell_type": "markdown",
   "id": "29f8e13e",
   "metadata": {},
   "source": [
    "# 📊 Experiment Analysis: ML vs Baseline Healing & Intelligent test selection\n",
    "This notebook compares healing effectiveness using post-healing and intelligent test selection dataset.\n"
   ]
  },
  {
   "cell_type": "code",
   "execution_count": 14,
   "id": "210fe2a8",
   "metadata": {},
   "outputs": [],
   "source": [
    "import pandas as pd\n",
    "import seaborn as sns, matplotlib.pyplot as plt\n",
    "from scipy.stats import ttest_ind, chi2_contingency"
   ]
  },
  {
   "cell_type": "markdown",
   "id": "b4eb6bd6",
   "metadata": {},
   "source": [
    "## 1. Load both datasets"
   ]
  },
  {
   "cell_type": "code",
   "execution_count": 15,
   "id": "f7749df2",
   "metadata": {},
   "outputs": [
    {
     "name": "stdout",
     "output_type": "stream",
     "text": [
      "all_logs.csv: (606, 10)\n",
      "intelligent_test_selection.csv: (169, 10)\n"
     ]
    },
    {
     "data": {
      "text/html": [
       "<div>\n",
       "<style scoped>\n",
       "    .dataframe tbody tr th:only-of-type {\n",
       "        vertical-align: middle;\n",
       "    }\n",
       "\n",
       "    .dataframe tbody tr th {\n",
       "        vertical-align: top;\n",
       "    }\n",
       "\n",
       "    .dataframe thead th {\n",
       "        text-align: right;\n",
       "    }\n",
       "</style>\n",
       "<table border=\"1\" class=\"dataframe\">\n",
       "  <thead>\n",
       "    <tr style=\"text-align: right;\">\n",
       "      <th></th>\n",
       "      <th>timestamp</th>\n",
       "      <th>command</th>\n",
       "      <th>duration_s</th>\n",
       "      <th>exit_code</th>\n",
       "      <th>cpu_pct_avg</th>\n",
       "      <th>mem_kb_max</th>\n",
       "      <th>tag</th>\n",
       "      <th>status</th>\n",
       "      <th>pipeline_id</th>\n",
       "      <th>mode</th>\n",
       "    </tr>\n",
       "  </thead>\n",
       "  <tbody>\n",
       "    <tr>\n",
       "      <th>0</th>\n",
       "      <td>2025-08-20 23:02:10</td>\n",
       "      <td>docker-login</td>\n",
       "      <td>0.5</td>\n",
       "      <td>0.0</td>\n",
       "      <td>0.00</td>\n",
       "      <td>0</td>\n",
       "      <td>build</td>\n",
       "      <td>pass</td>\n",
       "      <td>1995029365</td>\n",
       "      <td>baseline</td>\n",
       "    </tr>\n",
       "    <tr>\n",
       "      <th>1</th>\n",
       "      <td>2025-08-20 23:04:02</td>\n",
       "      <td>docker-build</td>\n",
       "      <td>1.5</td>\n",
       "      <td>0.0</td>\n",
       "      <td>6.73</td>\n",
       "      <td>39020</td>\n",
       "      <td>build</td>\n",
       "      <td>pass</td>\n",
       "      <td>1995029365</td>\n",
       "      <td>baseline</td>\n",
       "    </tr>\n",
       "    <tr>\n",
       "      <th>2</th>\n",
       "      <td>2025-08-20 23:04:19</td>\n",
       "      <td>docker-push</td>\n",
       "      <td>1.0</td>\n",
       "      <td>0.0</td>\n",
       "      <td>11.10</td>\n",
       "      <td>35180</td>\n",
       "      <td>build</td>\n",
       "      <td>pass</td>\n",
       "      <td>1995029365</td>\n",
       "      <td>baseline</td>\n",
       "    </tr>\n",
       "    <tr>\n",
       "      <th>3</th>\n",
       "      <td>2025-08-20 23:04:25</td>\n",
       "      <td>flake8 .</td>\n",
       "      <td>1.0</td>\n",
       "      <td>0.0</td>\n",
       "      <td>54.50</td>\n",
       "      <td>22224</td>\n",
       "      <td>lint</td>\n",
       "      <td>pass</td>\n",
       "      <td>1995029365</td>\n",
       "      <td>baseline</td>\n",
       "    </tr>\n",
       "    <tr>\n",
       "      <th>4</th>\n",
       "      <td>2025-08-20 23:04:31</td>\n",
       "      <td>python manage.py collectstatic --noinput</td>\n",
       "      <td>0.5</td>\n",
       "      <td>0.0</td>\n",
       "      <td>31.70</td>\n",
       "      <td>0</td>\n",
       "      <td>test</td>\n",
       "      <td>pass</td>\n",
       "      <td>1995029365</td>\n",
       "      <td>baseline</td>\n",
       "    </tr>\n",
       "  </tbody>\n",
       "</table>\n",
       "</div>"
      ],
      "text/plain": [
       "             timestamp                                   command  duration_s  \\\n",
       "0  2025-08-20 23:02:10                              docker-login         0.5   \n",
       "1  2025-08-20 23:04:02                              docker-build         1.5   \n",
       "2  2025-08-20 23:04:19                               docker-push         1.0   \n",
       "3  2025-08-20 23:04:25                                  flake8 .         1.0   \n",
       "4  2025-08-20 23:04:31  python manage.py collectstatic --noinput         0.5   \n",
       "\n",
       "   exit_code  cpu_pct_avg  mem_kb_max    tag status  pipeline_id      mode  \n",
       "0        0.0         0.00           0  build   pass   1995029365  baseline  \n",
       "1        0.0         6.73       39020  build   pass   1995029365  baseline  \n",
       "2        0.0        11.10       35180  build   pass   1995029365  baseline  \n",
       "3        0.0        54.50       22224   lint   pass   1995029365  baseline  \n",
       "4        0.0        31.70           0   test   pass   1995029365  baseline  "
      ]
     },
     "execution_count": 15,
     "metadata": {},
     "output_type": "execute_result"
    }
   ],
   "source": [
    "\n",
    "# Load datasets\n",
    "df_all = pd.read_csv(\"all_logs.csv\")\n",
    "df_its = pd.read_csv(\"intelligent_test_selection.csv\")\n",
    "\n",
    "print(\"all_logs.csv:\", df_all.shape)\n",
    "print(\"intelligent_test_selection.csv:\", df_its.shape)\n",
    "\n",
    "# Quick peek\n",
    "df_its.head()"
   ]
  },
  {
   "cell_type": "markdown",
   "id": "26ed43e5",
   "metadata": {},
   "source": [
    "## 2. Harmonize schema"
   ]
  },
  {
   "cell_type": "code",
   "execution_count": 16,
   "id": "67610ffa",
   "metadata": {},
   "outputs": [],
   "source": [
    "common_cols = set(df_all.columns) & set(df_its.columns)\n",
    "df_all = df_all[list(common_cols)]\n",
    "df_its = df_its[list(common_cols)]"
   ]
  },
  {
   "cell_type": "markdown",
   "id": "29b2b779",
   "metadata": {},
   "source": [
    "## 3. Add a source label"
   ]
  },
  {
   "cell_type": "code",
   "execution_count": 17,
   "id": "ba6765a5",
   "metadata": {},
   "outputs": [],
   "source": [
    "df_all[\"phase\"] = \"post_healing\"\n",
    "df_its[\"phase\"] = \"intelligent_selection\"\n",
    "\n",
    "df = pd.concat([df_all, df_its], ignore_index=True)"
   ]
  },
  {
   "cell_type": "markdown",
   "id": "a956090a",
   "metadata": {},
   "source": [
    "## 4. Compute per-pipeline aggregates"
   ]
  },
  {
   "cell_type": "code",
   "execution_count": 18,
   "id": "7534562e",
   "metadata": {},
   "outputs": [
    {
     "name": "stderr",
     "output_type": "stream",
     "text": [
      "C:\\Users\\ehiva\\AppData\\Local\\Temp\\ipykernel_48172\\3349125632.py:3: FutureWarning: DataFrameGroupBy.apply operated on the grouping columns. This behavior is deprecated, and in a future version of pandas the grouping columns will be excluded from the operation. Either pass `include_groups=False` to exclude the groupings or explicitly select the grouping columns after groupby to silence this warning.\n",
      "  .apply(lambda g: pd.Series({\n"
     ]
    },
    {
     "data": {
      "text/html": [
       "<div>\n",
       "<style scoped>\n",
       "    .dataframe tbody tr th:only-of-type {\n",
       "        vertical-align: middle;\n",
       "    }\n",
       "\n",
       "    .dataframe tbody tr th {\n",
       "        vertical-align: top;\n",
       "    }\n",
       "\n",
       "    .dataframe thead th {\n",
       "        text-align: right;\n",
       "    }\n",
       "</style>\n",
       "<table border=\"1\" class=\"dataframe\">\n",
       "  <thead>\n",
       "    <tr style=\"text-align: right;\">\n",
       "      <th></th>\n",
       "      <th>phase</th>\n",
       "      <th>pipeline_id</th>\n",
       "      <th>minutes</th>\n",
       "      <th>suites_run</th>\n",
       "      <th>suites_skipped</th>\n",
       "      <th>detected_fail</th>\n",
       "    </tr>\n",
       "  </thead>\n",
       "  <tbody>\n",
       "    <tr>\n",
       "      <th>0</th>\n",
       "      <td>intelligent_selection</td>\n",
       "      <td>1995029365</td>\n",
       "      <td>0.200333</td>\n",
       "      <td>0</td>\n",
       "      <td>0</td>\n",
       "      <td>True</td>\n",
       "    </tr>\n",
       "    <tr>\n",
       "      <th>1</th>\n",
       "      <td>intelligent_selection</td>\n",
       "      <td>1997439219</td>\n",
       "      <td>0.150167</td>\n",
       "      <td>3</td>\n",
       "      <td>0</td>\n",
       "      <td>True</td>\n",
       "    </tr>\n",
       "    <tr>\n",
       "      <th>2</th>\n",
       "      <td>intelligent_selection</td>\n",
       "      <td>1997481162</td>\n",
       "      <td>0.217000</td>\n",
       "      <td>4</td>\n",
       "      <td>0</td>\n",
       "      <td>True</td>\n",
       "    </tr>\n",
       "    <tr>\n",
       "      <th>3</th>\n",
       "      <td>intelligent_selection</td>\n",
       "      <td>1997508403</td>\n",
       "      <td>0.158500</td>\n",
       "      <td>3</td>\n",
       "      <td>0</td>\n",
       "      <td>True</td>\n",
       "    </tr>\n",
       "    <tr>\n",
       "      <th>4</th>\n",
       "      <td>intelligent_selection</td>\n",
       "      <td>1997553750</td>\n",
       "      <td>0.133500</td>\n",
       "      <td>3</td>\n",
       "      <td>0</td>\n",
       "      <td>False</td>\n",
       "    </tr>\n",
       "  </tbody>\n",
       "</table>\n",
       "</div>"
      ],
      "text/plain": [
       "                   phase  pipeline_id   minutes  suites_run  suites_skipped  \\\n",
       "0  intelligent_selection   1995029365  0.200333           0               0   \n",
       "1  intelligent_selection   1997439219  0.150167           3               0   \n",
       "2  intelligent_selection   1997481162  0.217000           4               0   \n",
       "3  intelligent_selection   1997508403  0.158500           3               0   \n",
       "4  intelligent_selection   1997553750  0.133500           3               0   \n",
       "\n",
       "   detected_fail  \n",
       "0           True  \n",
       "1           True  \n",
       "2           True  \n",
       "3           True  \n",
       "4          False  "
      ]
     },
     "execution_count": 18,
     "metadata": {},
     "output_type": "execute_result"
    }
   ],
   "source": [
    "agg = (\n",
    "    df.groupby([\"phase\", \"pipeline_id\"])\n",
    "      .apply(lambda g: pd.Series({\n",
    "          \"minutes\": g.loc[g[\"status\"]!=\"skipped\",\"duration_s\"].sum()/60,\n",
    "          \"suites_run\": (g[\"tag\"].isin([\"unit\",\"functional\"]) & (g[\"status\"]!=\"skipped\")).sum(),\n",
    "          \"suites_skipped\": (g[\"tag\"].isin([\"unit\",\"functional\"]) & (g[\"status\"]==\"skipped\")).sum(),\n",
    "          \"detected_fail\": (g[\"status\"]==\"fail\").any()\n",
    "      }))\n",
    "      .reset_index()\n",
    ")\n",
    "\n",
    "agg.head()"
   ]
  },
  {
   "cell_type": "code",
   "execution_count": 24,
   "id": "62da2343",
   "metadata": {},
   "outputs": [
    {
     "data": {
      "text/plain": [
       "tag\n",
       "functional    4\n",
       "Name: count, dtype: int64"
      ]
     },
     "execution_count": 24,
     "metadata": {},
     "output_type": "execute_result"
    }
   ],
   "source": [
    "# See how many skip events exist\n",
    "df[df[\"status\"]==\"skipped\"][\"tag\"].value_counts()"
   ]
  },
  {
   "cell_type": "markdown",
   "id": "a1b318da",
   "metadata": {},
   "source": [
    "## 5. Compare metrics"
   ]
  },
  {
   "cell_type": "code",
   "execution_count": 19,
   "id": "047e35cf",
   "metadata": {},
   "outputs": [
    {
     "data": {
      "text/plain": [
       "Text(0.5, 1.0, 'Pipeline minutes executed by phase')"
      ]
     },
     "execution_count": 19,
     "metadata": {},
     "output_type": "execute_result"
    },
    {
     "data": {
      "image/png": "[encoded data removed]",
      "text/plain": [
       "<Figure size 640x480 with 1 Axes>"
      ]
     },
     "metadata": {},
     "output_type": "display_data"
    }
   ],
   "source": [
    "sns.boxplot(x=\"phase\", y=\"minutes\", data=agg)\n",
    "plt.title(\"Pipeline minutes executed by phase\")"
   ]
  },
  {
   "cell_type": "code",
   "execution_count": 20,
   "id": "8c609633",
   "metadata": {},
   "outputs": [
    {
     "name": "stdout",
     "output_type": "stream",
     "text": [
      "                       suites_run  suites_skipped\n",
      "phase                                            \n",
      "intelligent_selection    3.380952        0.190476\n",
      "post_healing             0.000000        0.000000\n"
     ]
    }
   ],
   "source": [
    "# Skip rates\n",
    "\n",
    "skip_summary = agg.groupby(\"phase\")[[\"suites_run\",\"suites_skipped\"]].mean()\n",
    "print(skip_summary)"
   ]
  },
  {
   "cell_type": "code",
   "execution_count": 21,
   "id": "e0d95535",
   "metadata": {},
   "outputs": [
    {
     "name": "stdout",
     "output_type": "stream",
     "text": [
      "phase\n",
      "intelligent_selection    0.52381\n",
      "post_healing             0.43617\n",
      "Name: detected_fail, dtype: float64\n"
     ]
    }
   ],
   "source": [
    "# Detection\n",
    "\n",
    "fail_rates = agg.groupby(\"phase\")[\"detected_fail\"].mean()\n",
    "print(fail_rates)"
   ]
  },
  {
   "cell_type": "markdown",
   "id": "7d9a74e1",
   "metadata": {},
   "source": [
    "## 6. Statistical tests"
   ]
  },
  {
   "cell_type": "code",
   "execution_count": 22,
   "id": "fe5075fc",
   "metadata": {},
   "outputs": [
    {
     "name": "stdout",
     "output_type": "stream",
     "text": [
      "T-test minutes: 2.9031382501354166 0.004608144695397742\n",
      "Chi-square detection: 0.23723063284233487 0.6262134917526995\n"
     ]
    }
   ],
   "source": [
    "minutes_all = agg.loc[agg[\"phase\"]==\"post_healing\",\"minutes\"]\n",
    "minutes_its = agg.loc[agg[\"phase\"]==\"intelligent_selection\",\"minutes\"]\n",
    "\n",
    "t_stat, p_val = ttest_ind(minutes_all, minutes_its, equal_var=False)\n",
    "print(\"T-test minutes:\", t_stat, p_val)\n",
    "\n",
    "# Chi-square on detection\n",
    "contingency = pd.crosstab(agg[\"phase\"], agg[\"detected_fail\"])\n",
    "chi2, p, dof, exp = chi2_contingency(contingency)\n",
    "print(\"Chi-square detection:\", chi2, p)"
   ]
  },
  {
   "cell_type": "markdown",
   "id": "ade8d160",
   "metadata": {},
   "source": [
    "## 7. Visualize skipped vs run"
   ]
  },
  {
   "cell_type": "code",
   "execution_count": 23,
   "id": "d6596008",
   "metadata": {},
   "outputs": [
    {
     "data": {
      "text/plain": [
       "Text(0.5, 1.0, 'Skipped suites per phase')"
      ]
     },
     "execution_count": 23,
     "metadata": {},
     "output_type": "execute_result"
    },
    {
     "data": {
      "image/png": "[encoded data removed]",
      "text/plain": [
       "<Figure size 640x480 with 1 Axes>"
      ]
     },
     "metadata": {},
     "output_type": "display_data"
    }
   ],
   "source": [
    "sns.countplot(x=\"phase\", hue=\"suites_skipped\", data=agg)\n",
    "plt.title(\"Skipped suites per phase\")"
   ]
  },
  {
   "cell_type": "code",
   "execution_count": 25,
   "id": "0556d279",
   "metadata": {},
   "outputs": [
    {
     "data": {
      "text/plain": [
       "Text(0.5, 1.0, 'Suite outcomes by phase (pass/fail/skipped)')"
      ]
     },
     "execution_count": 25,
     "metadata": {},
     "output_type": "execute_result"
    },
    {
     "data": {
      "image/png": "[encoded data removed]",
      "text/plain": [
       "<Figure size 640x480 with 1 Axes>"
      ]
     },
     "metadata": {},
     "output_type": "display_data"
    }
   ],
   "source": [
    "import seaborn as sns\n",
    "import matplotlib.pyplot as plt\n",
    "\n",
    "# Only look at unit/functional rows\n",
    "suites = df[df[\"tag\"].isin([\"unit\",\"functional\"])]\n",
    "\n",
    "sns.countplot(x=\"phase\", hue=\"status\", data=suites)\n",
    "plt.title(\"Suite outcomes by phase (pass/fail/skipped)\")"
   ]
  }
 ],
 "metadata": {
  "kernelspec": {
   "display_name": "venv",
   "language": "python",
   "name": "python3"
  },
  "language_info": {
   "codemirror_mode": {
    "name": "ipython",
    "version": 3
   },
   "file_extension": ".py",
   "mimetype": "text/x-python",
   "name": "python",
   "nbconvert_exporter": "python",
   "pygments_lexer": "ipython3",
   "version": "3.11.0"
  }
 },
 "nbformat": 4,
 "nbformat_minor": 5
}
