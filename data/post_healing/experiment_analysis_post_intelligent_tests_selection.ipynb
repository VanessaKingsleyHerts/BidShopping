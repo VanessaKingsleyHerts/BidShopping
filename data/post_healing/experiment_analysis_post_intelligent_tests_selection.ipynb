{
 "cells": [
  {
   "cell_type": "markdown",
   "id": "29f8e13e",
   "metadata": {},
   "source": [
    "# 📊 Experiment Analysis: ML vs Baseline Healing & Intelligent test selection\n",
    "This notebook compares healing effectiveness using post-healing and intelligent test selection dataset.\n"
   ]
  },
  {
   "cell_type": "code",
   "execution_count": 189,
   "id": "210fe2a8",
   "metadata": {},
   "outputs": [],
   "source": [
    "import pandas as pd\n",
    "import seaborn as sns, matplotlib.pyplot as plt\n",
    "from scipy.stats import ttest_ind, chi2_contingency"
   ]
  },
  {
   "cell_type": "markdown",
   "id": "b4eb6bd6",
   "metadata": {},
   "source": [
    "## 1. Load both datasets"
   ]
  },
  {
   "cell_type": "code",
   "execution_count": 190,
   "id": "f7749df2",
   "metadata": {},
   "outputs": [
    {
     "name": "stdout",
     "output_type": "stream",
     "text": [
      "all_logs.csv: (271, 10)\n",
      "intelligent_test_selection.csv: (446, 10)\n"
     ]
    },
    {
     "data": {
      "text/html": [
       "<div>\n",
       "<style scoped>\n",
       "    .dataframe tbody tr th:only-of-type {\n",
       "        vertical-align: middle;\n",
       "    }\n",
       "\n",
       "    .dataframe tbody tr th {\n",
       "        vertical-align: top;\n",
       "    }\n",
       "\n",
       "    .dataframe thead th {\n",
       "        text-align: right;\n",
       "    }\n",
       "</style>\n",
       "<table border=\"1\" class=\"dataframe\">\n",
       "  <thead>\n",
       "    <tr style=\"text-align: right;\">\n",
       "      <th></th>\n",
       "      <th>timestamp</th>\n",
       "      <th>command</th>\n",
       "      <th>duration_s</th>\n",
       "      <th>exit_code</th>\n",
       "      <th>cpu_pct_avg</th>\n",
       "      <th>mem_kb_max</th>\n",
       "      <th>tag</th>\n",
       "      <th>status</th>\n",
       "      <th>pipeline_id</th>\n",
       "      <th>mode</th>\n",
       "    </tr>\n",
       "  </thead>\n",
       "  <tbody>\n",
       "    <tr>\n",
       "      <th>0</th>\n",
       "      <td>2025-08-20 23:02:10</td>\n",
       "      <td>docker-login</td>\n",
       "      <td>0.5</td>\n",
       "      <td>0.0</td>\n",
       "      <td>0.00</td>\n",
       "      <td>0</td>\n",
       "      <td>build</td>\n",
       "      <td>pass</td>\n",
       "      <td>1995029365</td>\n",
       "      <td>baseline</td>\n",
       "    </tr>\n",
       "    <tr>\n",
       "      <th>1</th>\n",
       "      <td>2025-08-20 23:04:02</td>\n",
       "      <td>docker-build</td>\n",
       "      <td>1.5</td>\n",
       "      <td>0.0</td>\n",
       "      <td>6.73</td>\n",
       "      <td>39020</td>\n",
       "      <td>build</td>\n",
       "      <td>pass</td>\n",
       "      <td>1995029365</td>\n",
       "      <td>baseline</td>\n",
       "    </tr>\n",
       "    <tr>\n",
       "      <th>2</th>\n",
       "      <td>2025-08-20 23:04:19</td>\n",
       "      <td>docker-push</td>\n",
       "      <td>1.0</td>\n",
       "      <td>0.0</td>\n",
       "      <td>11.10</td>\n",
       "      <td>35180</td>\n",
       "      <td>build</td>\n",
       "      <td>pass</td>\n",
       "      <td>1995029365</td>\n",
       "      <td>baseline</td>\n",
       "    </tr>\n",
       "    <tr>\n",
       "      <th>3</th>\n",
       "      <td>2025-08-20 23:04:25</td>\n",
       "      <td>flake8 .</td>\n",
       "      <td>1.0</td>\n",
       "      <td>0.0</td>\n",
       "      <td>54.50</td>\n",
       "      <td>22224</td>\n",
       "      <td>lint</td>\n",
       "      <td>pass</td>\n",
       "      <td>1995029365</td>\n",
       "      <td>baseline</td>\n",
       "    </tr>\n",
       "    <tr>\n",
       "      <th>4</th>\n",
       "      <td>2025-08-20 23:04:31</td>\n",
       "      <td>python manage.py collectstatic --noinput</td>\n",
       "      <td>0.5</td>\n",
       "      <td>0.0</td>\n",
       "      <td>31.70</td>\n",
       "      <td>0</td>\n",
       "      <td>test</td>\n",
       "      <td>pass</td>\n",
       "      <td>1995029365</td>\n",
       "      <td>baseline</td>\n",
       "    </tr>\n",
       "  </tbody>\n",
       "</table>\n",
       "</div>"
      ],
      "text/plain": [
       "             timestamp                                   command  duration_s  \\\n",
       "0  2025-08-20 23:02:10                              docker-login         0.5   \n",
       "1  2025-08-20 23:04:02                              docker-build         1.5   \n",
       "2  2025-08-20 23:04:19                               docker-push         1.0   \n",
       "3  2025-08-20 23:04:25                                  flake8 .         1.0   \n",
       "4  2025-08-20 23:04:31  python manage.py collectstatic --noinput         0.5   \n",
       "\n",
       "   exit_code  cpu_pct_avg  mem_kb_max    tag status  pipeline_id      mode  \n",
       "0        0.0         0.00           0  build   pass   1995029365  baseline  \n",
       "1        0.0         6.73       39020  build   pass   1995029365  baseline  \n",
       "2        0.0        11.10       35180  build   pass   1995029365  baseline  \n",
       "3        0.0        54.50       22224   lint   pass   1995029365  baseline  \n",
       "4        0.0        31.70           0   test   pass   1995029365  baseline  "
      ]
     },
     "execution_count": 190,
     "metadata": {},
     "output_type": "execute_result"
    }
   ],
   "source": [
    "\n",
    "# Load datasets\n",
    "df_all = pd.read_csv(\"all_logs.csv\")\n",
    "df_its = pd.read_csv(\"intelligent_test_selection.csv\")\n",
    "\n",
    "print(\"all_logs.csv:\", df_all.shape)\n",
    "print(\"intelligent_test_selection.csv:\", df_its.shape)\n",
    "\n",
    "# Quick peek\n",
    "df_its.head()"
   ]
  },
  {
   "cell_type": "markdown",
   "id": "26ed43e5",
   "metadata": {},
   "source": [
    "## 2. Harmonize schema"
   ]
  },
  {
   "cell_type": "code",
   "execution_count": 191,
   "id": "67610ffa",
   "metadata": {},
   "outputs": [],
   "source": [
    "common_cols = set(df_all.columns) & set(df_its.columns)\n",
    "df_all = df_all[list(common_cols)]\n",
    "df_its = df_its[list(common_cols)]"
   ]
  },
  {
   "cell_type": "markdown",
   "id": "29b2b779",
   "metadata": {},
   "source": [
    "## 3. Add a source label"
   ]
  },
  {
   "cell_type": "code",
   "execution_count": 192,
   "id": "ba6765a5",
   "metadata": {},
   "outputs": [],
   "source": [
    "df_all[\"phase\"] = \"pre_intelligent_selection_healing\"\n",
    "df_its[\"phase\"] = \"intelligent_selection\"\n",
    "\n",
    "df = pd.concat([df_all, df_its], ignore_index=True)"
   ]
  },
  {
   "cell_type": "markdown",
   "id": "a956090a",
   "metadata": {},
   "source": [
    "## 4. Compute per-pipeline aggregates"
   ]
  },
  {
   "cell_type": "code",
   "execution_count": 193,
   "id": "7534562e",
   "metadata": {},
   "outputs": [
    {
     "name": "stderr",
     "output_type": "stream",
     "text": [
      "C:\\Users\\ehiva\\AppData\\Local\\Temp\\ipykernel_48172\\3349125632.py:3: FutureWarning: DataFrameGroupBy.apply operated on the grouping columns. This behavior is deprecated, and in a future version of pandas the grouping columns will be excluded from the operation. Either pass `include_groups=False` to exclude the groupings or explicitly select the grouping columns after groupby to silence this warning.\n",
      "  .apply(lambda g: pd.Series({\n"
     ]
    },
    {
     "data": {
      "text/html": [
       "<div>\n",
       "<style scoped>\n",
       "    .dataframe tbody tr th:only-of-type {\n",
       "        vertical-align: middle;\n",
       "    }\n",
       "\n",
       "    .dataframe tbody tr th {\n",
       "        vertical-align: top;\n",
       "    }\n",
       "\n",
       "    .dataframe thead th {\n",
       "        text-align: right;\n",
       "    }\n",
       "</style>\n",
       "<table border=\"1\" class=\"dataframe\">\n",
       "  <thead>\n",
       "    <tr style=\"text-align: right;\">\n",
       "      <th></th>\n",
       "      <th>phase</th>\n",
       "      <th>pipeline_id</th>\n",
       "      <th>minutes</th>\n",
       "      <th>suites_run</th>\n",
       "      <th>suites_skipped</th>\n",
       "      <th>detected_fail</th>\n",
       "    </tr>\n",
       "  </thead>\n",
       "  <tbody>\n",
       "    <tr>\n",
       "      <th>0</th>\n",
       "      <td>intelligent_selection</td>\n",
       "      <td>1995029365</td>\n",
       "      <td>0.200333</td>\n",
       "      <td>0</td>\n",
       "      <td>0</td>\n",
       "      <td>True</td>\n",
       "    </tr>\n",
       "    <tr>\n",
       "      <th>1</th>\n",
       "      <td>intelligent_selection</td>\n",
       "      <td>1997439219</td>\n",
       "      <td>0.150167</td>\n",
       "      <td>1</td>\n",
       "      <td>0</td>\n",
       "      <td>True</td>\n",
       "    </tr>\n",
       "    <tr>\n",
       "      <th>2</th>\n",
       "      <td>intelligent_selection</td>\n",
       "      <td>1997481162</td>\n",
       "      <td>0.217000</td>\n",
       "      <td>1</td>\n",
       "      <td>0</td>\n",
       "      <td>True</td>\n",
       "    </tr>\n",
       "    <tr>\n",
       "      <th>3</th>\n",
       "      <td>intelligent_selection</td>\n",
       "      <td>1997508403</td>\n",
       "      <td>0.158500</td>\n",
       "      <td>1</td>\n",
       "      <td>0</td>\n",
       "      <td>True</td>\n",
       "    </tr>\n",
       "    <tr>\n",
       "      <th>4</th>\n",
       "      <td>intelligent_selection</td>\n",
       "      <td>1997553750</td>\n",
       "      <td>0.133500</td>\n",
       "      <td>1</td>\n",
       "      <td>0</td>\n",
       "      <td>False</td>\n",
       "    </tr>\n",
       "  </tbody>\n",
       "</table>\n",
       "</div>"
      ],
      "text/plain": [
       "                   phase  pipeline_id   minutes  suites_run  suites_skipped  \\\n",
       "0  intelligent_selection   1995029365  0.200333           0               0   \n",
       "1  intelligent_selection   1997439219  0.150167           1               0   \n",
       "2  intelligent_selection   1997481162  0.217000           1               0   \n",
       "3  intelligent_selection   1997508403  0.158500           1               0   \n",
       "4  intelligent_selection   1997553750  0.133500           1               0   \n",
       "\n",
       "   detected_fail  \n",
       "0           True  \n",
       "1           True  \n",
       "2           True  \n",
       "3           True  \n",
       "4          False  "
      ]
     },
     "execution_count": 193,
     "metadata": {},
     "output_type": "execute_result"
    }
   ],
   "source": [
    "agg = (\n",
    "    df.groupby([\"phase\", \"pipeline_id\"])\n",
    "      .apply(lambda g: pd.Series({\n",
    "          \"minutes\": g.loc[g[\"status\"]!=\"skipped\",\"duration_s\"].sum()/60,\n",
    "          \"suites_run\": (g[\"tag\"].isin([\"unit\",\"functional\"]) & (g[\"status\"]!=\"skipped\")).sum(),\n",
    "          \"suites_skipped\": (g[\"tag\"].isin([\"unit\",\"functional\"]) & (g[\"status\"]==\"skipped\")).sum(),\n",
    "          \"detected_fail\": (g[\"status\"]==\"fail\").any()\n",
    "      }))\n",
    "      .reset_index()\n",
    ")\n",
    "\n",
    "agg.head()"
   ]
  },
  {
   "cell_type": "code",
   "execution_count": 194,
   "id": "62da2343",
   "metadata": {},
   "outputs": [
    {
     "data": {
      "text/plain": [
       "tag\n",
       "functional    21\n",
       "unit           6\n",
       "Name: count, dtype: int64"
      ]
     },
     "execution_count": 194,
     "metadata": {},
     "output_type": "execute_result"
    }
   ],
   "source": [
    "# See how many skip events exist\n",
    "df[df[\"status\"]==\"skipped\"][\"tag\"].value_counts()"
   ]
  },
  {
   "cell_type": "markdown",
   "id": "a1b318da",
   "metadata": {},
   "source": [
    "## 5. Compare metrics"
   ]
  },
  {
   "cell_type": "code",
   "execution_count": 195,
   "id": "047e35cf",
   "metadata": {},
   "outputs": [
    {
     "data": {
      "text/plain": [
       "Text(0.5, 1.0, 'Pipeline minutes executed by phase')"
      ]
     },
     "execution_count": 195,
     "metadata": {},
     "output_type": "execute_result"
    },
    {
     "data": {
      "image/png": "[encoded data removed]",
      "text/plain": [
       "<Figure size 640x480 with 1 Axes>"
      ]
     },
     "metadata": {},
     "output_type": "display_data"
    }
   ],
   "source": [
    "sns.boxplot(x=\"phase\", y=\"minutes\", data=agg)\n",
    "plt.title(\"Pipeline minutes executed by phase\")"
   ]
  },
  {
   "cell_type": "code",
   "execution_count": 196,
   "id": "8c609633",
   "metadata": {},
   "outputs": [
    {
     "name": "stdout",
     "output_type": "stream",
     "text": [
      "                                   suites_run  suites_skipped\n",
      "phase                                                        \n",
      "intelligent_selection                1.506849        0.369863\n",
      "pre_intelligent_selection_healing    0.702128        0.000000\n"
     ]
    }
   ],
   "source": [
    "# Skip rates\n",
    "\n",
    "skip_summary = agg.groupby(\"phase\")[[\"suites_run\",\"suites_skipped\"]].mean()\n",
    "print(skip_summary)"
   ]
  },
  {
   "cell_type": "code",
   "execution_count": 197,
   "id": "e0d95535",
   "metadata": {},
   "outputs": [
    {
     "name": "stdout",
     "output_type": "stream",
     "text": [
      "phase\n",
      "intelligent_selection                0.424658\n",
      "pre_intelligent_selection_healing    0.436170\n",
      "Name: detected_fail, dtype: float64\n"
     ]
    }
   ],
   "source": [
    "# Detection\n",
    "\n",
    "fail_rates = agg.groupby(\"phase\")[\"detected_fail\"].mean()\n",
    "print(fail_rates)"
   ]
  },
  {
   "cell_type": "markdown",
   "id": "7d9a74e1",
   "metadata": {},
   "source": [
    "## 6. Statistical tests"
   ]
  },
  {
   "cell_type": "code",
   "execution_count": 198,
   "id": "fe5075fc",
   "metadata": {},
   "outputs": [
    {
     "name": "stdout",
     "output_type": "stream",
     "text": [
      "T-test minutes: 2.5782194492604926 0.011489810717305387\n",
      "Chi-square detection: 0.0 1.0\n"
     ]
    }
   ],
   "source": [
    "minutes_all = agg.loc[agg[\"phase\"]==\"pre_intelligent_selection_healing\",\"minutes\"]\n",
    "minutes_its = agg.loc[agg[\"phase\"]==\"intelligent_selection\",\"minutes\"]\n",
    "\n",
    "t_stat, p_val = ttest_ind(minutes_all, minutes_its, equal_var=False)\n",
    "print(\"T-test minutes:\", t_stat, p_val)\n",
    "\n",
    "# Chi-square on detection\n",
    "contingency = pd.crosstab(agg[\"phase\"], agg[\"detected_fail\"])\n",
    "chi2, p, dof, exp = chi2_contingency(contingency)\n",
    "print(\"Chi-square detection:\", chi2, p)"
   ]
  },
  {
   "cell_type": "markdown",
   "id": "ade8d160",
   "metadata": {},
   "source": [
    "## 7. Visualize skipped vs run"
   ]
  },
  {
   "cell_type": "code",
   "execution_count": 199,
   "id": "d6596008",
   "metadata": {},
   "outputs": [
    {
     "data": {
      "text/plain": [
       "Text(0.5, 1.0, 'Skipped suites per phase')"
      ]
     },
     "execution_count": 199,
     "metadata": {},
     "output_type": "execute_result"
    },
    {
     "data": {
      "image/png": "[encoded data removed]",
      "text/plain": [
       "<Figure size 640x480 with 1 Axes>"
      ]
     },
     "metadata": {},
     "output_type": "display_data"
    }
   ],
   "source": [
    "sns.countplot(x=\"phase\", hue=\"suites_skipped\", data=agg)\n",
    "plt.title(\"Skipped suites per phase\")"
   ]
  },
  {
   "cell_type": "code",
   "execution_count": 200,
   "id": "0556d279",
   "metadata": {},
   "outputs": [
    {
     "data": {
      "text/plain": [
       "Text(0.5, 1.0, 'Suite outcomes by phase (pass/fail/skipped)')"
      ]
     },
     "execution_count": 200,
     "metadata": {},
     "output_type": "execute_result"
    },
    {
     "data": {
      "image/png": "[encoded data removed]",
      "text/plain": [
       "<Figure size 640x480 with 1 Axes>"
      ]
     },
     "metadata": {},
     "output_type": "display_data"
    }
   ],
   "source": [
    "# Only look at unit/functional rows\n",
    "suites = df[df[\"tag\"].isin([\"unit\",\"functional\"])]\n",
    "\n",
    "sns.countplot(x=\"phase\", hue=\"status\", data=suites)\n",
    "plt.title(\"Suite outcomes by phase (pass/fail/skipped)\")"
   ]
  },
  {
   "cell_type": "markdown",
   "id": "64d66bab",
   "metadata": {},
   "source": [
    "## 8. Time Saved vs Coverage"
   ]
  },
  {
   "cell_type": "code",
   "execution_count": 201,
   "id": "74bf918a",
   "metadata": {},
   "outputs": [
    {
     "name": "stderr",
     "output_type": "stream",
     "text": [
      "C:\\Users\\ehiva\\AppData\\Local\\Temp\\ipykernel_48172\\997173533.py:6: FutureWarning: DataFrameGroupBy.apply operated on the grouping columns. This behavior is deprecated, and in a future version of pandas the grouping columns will be excluded from the operation. Either pass `include_groups=False` to exclude the groupings or explicitly select the grouping columns after groupby to silence this warning.\n",
      "  .apply(lambda g: pd.Series({\n"
     ]
    },
    {
     "data": {
      "text/html": [
       "<div>\n",
       "<style scoped>\n",
       "    .dataframe tbody tr th:only-of-type {\n",
       "        vertical-align: middle;\n",
       "    }\n",
       "\n",
       "    .dataframe tbody tr th {\n",
       "        vertical-align: top;\n",
       "    }\n",
       "\n",
       "    .dataframe thead th {\n",
       "        text-align: right;\n",
       "    }\n",
       "</style>\n",
       "<table border=\"1\" class=\"dataframe\">\n",
       "  <thead>\n",
       "    <tr style=\"text-align: right;\">\n",
       "      <th></th>\n",
       "      <th>phase</th>\n",
       "      <th>pipeline_id</th>\n",
       "      <th>minutes</th>\n",
       "      <th>suites_run</th>\n",
       "      <th>suites_skipped</th>\n",
       "      <th>detected_fail</th>\n",
       "    </tr>\n",
       "  </thead>\n",
       "  <tbody>\n",
       "    <tr>\n",
       "      <th>0</th>\n",
       "      <td>intelligent_selection</td>\n",
       "      <td>1997439219</td>\n",
       "      <td>0.066833</td>\n",
       "      <td>1</td>\n",
       "      <td>0</td>\n",
       "      <td>False</td>\n",
       "    </tr>\n",
       "    <tr>\n",
       "      <th>1</th>\n",
       "      <td>intelligent_selection</td>\n",
       "      <td>1997481162</td>\n",
       "      <td>0.133667</td>\n",
       "      <td>1</td>\n",
       "      <td>0</td>\n",
       "      <td>True</td>\n",
       "    </tr>\n",
       "    <tr>\n",
       "      <th>2</th>\n",
       "      <td>intelligent_selection</td>\n",
       "      <td>1997508403</td>\n",
       "      <td>0.075167</td>\n",
       "      <td>1</td>\n",
       "      <td>0</td>\n",
       "      <td>False</td>\n",
       "    </tr>\n",
       "    <tr>\n",
       "      <th>3</th>\n",
       "      <td>intelligent_selection</td>\n",
       "      <td>1997553750</td>\n",
       "      <td>0.066833</td>\n",
       "      <td>1</td>\n",
       "      <td>0</td>\n",
       "      <td>False</td>\n",
       "    </tr>\n",
       "    <tr>\n",
       "      <th>4</th>\n",
       "      <td>intelligent_selection</td>\n",
       "      <td>2001049716</td>\n",
       "      <td>0.075167</td>\n",
       "      <td>1</td>\n",
       "      <td>0</td>\n",
       "      <td>False</td>\n",
       "    </tr>\n",
       "  </tbody>\n",
       "</table>\n",
       "</div>"
      ],
      "text/plain": [
       "                   phase  pipeline_id   minutes  suites_run  suites_skipped  \\\n",
       "0  intelligent_selection   1997439219  0.066833           1               0   \n",
       "1  intelligent_selection   1997481162  0.133667           1               0   \n",
       "2  intelligent_selection   1997508403  0.075167           1               0   \n",
       "3  intelligent_selection   1997553750  0.066833           1               0   \n",
       "4  intelligent_selection   2001049716  0.075167           1               0   \n",
       "\n",
       "   detected_fail  \n",
       "0          False  \n",
       "1           True  \n",
       "2          False  \n",
       "3          False  \n",
       "4          False  "
      ]
     },
     "execution_count": 201,
     "metadata": {},
     "output_type": "execute_result"
    }
   ],
   "source": [
    "# Compute per-pipeline aggregates including skip counts\n",
    "\n",
    "# Aggregate per pipeline\n",
    "agg = (\n",
    "    suites.groupby([\"phase\",\"pipeline_id\"])\n",
    "    .apply(lambda g: pd.Series({\n",
    "        \"minutes\": g.loc[g[\"status\"]!=\"skipped\",\"duration_s\"].sum()/60,\n",
    "        \"suites_run\": (g[\"status\"]!=\"skipped\").sum(),\n",
    "        \"suites_skipped\": (g[\"status\"]==\"skipped\").sum(),\n",
    "        \"detected_fail\": (g[\"status\"]==\"fail\").any()\n",
    "    }))\n",
    "    .reset_index()\n",
    ")\n",
    "\n",
    "agg.head()"
   ]
  },
  {
   "cell_type": "code",
   "execution_count": 202,
   "id": "ad20a77e",
   "metadata": {},
   "outputs": [
    {
     "data": {
      "text/html": [
       "<div>\n",
       "<style scoped>\n",
       "    .dataframe tbody tr th:only-of-type {\n",
       "        vertical-align: middle;\n",
       "    }\n",
       "\n",
       "    .dataframe tbody tr th {\n",
       "        vertical-align: top;\n",
       "    }\n",
       "\n",
       "    .dataframe thead th {\n",
       "        text-align: right;\n",
       "    }\n",
       "</style>\n",
       "<table border=\"1\" class=\"dataframe\">\n",
       "  <thead>\n",
       "    <tr style=\"text-align: right;\">\n",
       "      <th></th>\n",
       "      <th>phase</th>\n",
       "      <th>avg_minutes</th>\n",
       "      <th>avg_suites_run</th>\n",
       "      <th>avg_suites_skipped</th>\n",
       "      <th>detection_rate</th>\n",
       "      <th>n_pipelines</th>\n",
       "    </tr>\n",
       "  </thead>\n",
       "  <tbody>\n",
       "    <tr>\n",
       "      <th>0</th>\n",
       "      <td>intelligent_selection</td>\n",
       "      <td>0.226127</td>\n",
       "      <td>1.527778</td>\n",
       "      <td>0.375</td>\n",
       "      <td>0.208333</td>\n",
       "      <td>72</td>\n",
       "    </tr>\n",
       "    <tr>\n",
       "      <th>1</th>\n",
       "      <td>pre_intelligent_selection_healing</td>\n",
       "      <td>0.239042</td>\n",
       "      <td>1.178571</td>\n",
       "      <td>0.000</td>\n",
       "      <td>0.446429</td>\n",
       "      <td>56</td>\n",
       "    </tr>\n",
       "  </tbody>\n",
       "</table>\n",
       "</div>"
      ],
      "text/plain": [
       "                               phase  avg_minutes  avg_suites_run  \\\n",
       "0              intelligent_selection     0.226127        1.527778   \n",
       "1  pre_intelligent_selection_healing     0.239042        1.178571   \n",
       "\n",
       "   avg_suites_skipped  detection_rate  n_pipelines  \n",
       "0               0.375        0.208333           72  \n",
       "1               0.000        0.446429           56  "
      ]
     },
     "execution_count": 202,
     "metadata": {},
     "output_type": "execute_result"
    }
   ],
   "source": [
    "# Summary by phase\n",
    "\n",
    "summary = agg.groupby(\"phase\").agg(\n",
    "    avg_minutes=(\"minutes\",\"mean\"),\n",
    "    avg_suites_run=(\"suites_run\",\"mean\"),\n",
    "    avg_suites_skipped=(\"suites_skipped\",\"mean\"),\n",
    "    detection_rate=(\"detected_fail\",\"mean\"),\n",
    "    n_pipelines=(\"pipeline_id\",\"count\")\n",
    ").reset_index()\n",
    "\n",
    "summary"
   ]
  },
  {
   "cell_type": "code",
   "execution_count": 204,
   "id": "97ef43da",
   "metadata": {},
   "outputs": [
    {
     "data": {
      "image/png": "[encoded data removed]",
      "text/plain": [
       "<Figure size 800x600 with 1 Axes>"
      ]
     },
     "metadata": {},
     "output_type": "display_data"
    }
   ],
   "source": [
    "# Plot Time Saved vs Coverage\n",
    "\n",
    "plt.figure(figsize=(8,6))\n",
    "sns.scatterplot(\n",
    "    data=summary,\n",
    "    x=\"avg_minutes\", \n",
    "    y=\"detection_rate\", \n",
    "    hue=\"phase\", s=150\n",
    ")\n",
    "plt.xlabel(\"Avg Minutes Executed (per pipeline)\")\n",
    "plt.ylabel(\"Failure Detection Rate\")\n",
    "plt.title(\"Trade-off: Time Saved vs Coverage\")\n",
    "plt.ylim(0,1.05)\n",
    "plt.show()"
   ]
  },
  {
   "cell_type": "code",
   "execution_count": 205,
   "id": "cf1dc681",
   "metadata": {},
   "outputs": [],
   "source": [
    "# Breakdown by mode (Suite vs Budget)\n",
    "\n",
    "if \"label\" in df.columns:\n",
    "    suites2 = df[df[\"tag\"].isin([\"unit\",\"functional\"])]\n",
    "    agg2 = suites2.groupby([\"label\",\"pipeline_id\"]).apply(lambda g: pd.Series({\n",
    "        \"minutes\": g.loc[g[\"status\"]!=\"skipped\",\"duration_s\"].sum()/60,\n",
    "        \"suites_skipped\": (g[\"status\"]==\"skipped\").sum(),\n",
    "        \"detected_fail\": (g[\"status\"]==\"fail\").any()\n",
    "    })).reset_index()\n",
    "\n",
    "    summary2 = agg2.groupby(\"label\").mean(numeric_only=True).reset_index()\n",
    "    display(summary2)\n"
   ]
  },
  {
   "cell_type": "markdown",
   "id": "c9ad07e4",
   "metadata": {},
   "source": [
    "## NORMALISATION OF DATASET"
   ]
  },
  {
   "cell_type": "code",
   "execution_count": null,
   "id": "cd585ef8",
   "metadata": {},
   "outputs": [
    {
     "name": "stdout",
     "output_type": "stream",
     "text": [
      "Before: (191, 10) After normalization: (146, 10)\n"
     ]
    }
   ],
   "source": [
    "import pandas as pd\n",
    "\n",
    "def normalize_suites(df):\n",
    "    \"\"\"\n",
    "    Collapse multiple rows of 'unit' (collectstatic, migrate, unit-tests, retries)\n",
    "    and 'functional' (if split) into ONE row per (pipeline_id, tag, mode).\n",
    "    Non-test rows (build, lint, etc.) are preserved.\n",
    "    Keeps row order by timestamp.\n",
    "    \"\"\"\n",
    "    test_tags = [\"unit\", \"functional\"]\n",
    "\n",
    "    # Separate suites vs other jobs\n",
    "    test_df = df[df[\"tag\"].isin(test_tags)].copy()\n",
    "    other_df = df[~df[\"tag\"].isin(test_tags)].copy()\n",
    "\n",
    "    if test_df.empty:\n",
    "        return df.sort_values(\"timestamp\")\n",
    "\n",
    "    # Aggregate per pipeline_id + tag + mode\n",
    "    agg_test = (\n",
    "        test_df.groupby([\"pipeline_id\",\"tag\",\"mode\"]).agg({\n",
    "            \"duration_s\": \"sum\",    # total duration of all sub-steps\n",
    "            \"cpu_pct_avg\": \"mean\",  # average CPU usage\n",
    "            \"mem_kb_max\": \"max\",    # peak memory\n",
    "            \"exit_code\": \"max\",     # any nonzero -> fail\n",
    "            \"status\": lambda s: (\n",
    "                \"fail\" if (s==\"fail\").any()\n",
    "                else \"skipped\" if (s==\"skipped\").any()\n",
    "                else \"pass\"\n",
    "            ),\n",
    "            \"timestamp\": \"min\",     # earliest timestamp among sub-steps\n",
    "            \"command\": lambda s: \";\".join(s)  # join commands for traceability\n",
    "        }).reset_index()\n",
    "    )\n",
    "\n",
    "    # Merge back\n",
    "    merged = pd.concat([other_df, agg_test], ignore_index=True)\n",
    "\n",
    "    # Ensure chronological order\n",
    "    merged = merged.sort_values([\"pipeline_id\",\"timestamp\"]).reset_index(drop=True)\n",
    "\n",
    "    return merged\n",
    "\n",
    "df = pd.read_csv(\"intelligent_test_selection_pre_norm.csv\")\n",
    "df_norm = normalize_suites(df)\n",
    "\n",
    "print(\"Before:\", df.shape, \"After normalization:\", df_norm.shape)\n",
    "df_norm.head(15)\n",
    "\n",
    "# df_norm.to_csv(\"intelligent_test_selection.csv\", index=False)\n"
   ]
  },
  {
   "cell_type": "code",
   "execution_count": 142,
   "id": "c9f1728e",
   "metadata": {},
   "outputs": [
    {
     "name": "stdout",
     "output_type": "stream",
     "text": [
      "Before: (606, 10) After: (427, 10)\n"
     ]
    }
   ],
   "source": [
    "import pandas as pd\n",
    "\n",
    "df = pd.read_csv(\"all_logs_pre_norm.csv\")\n",
    "\n",
    "# Step 1: Map test tags\n",
    "def map_tag(row):\n",
    "    if row[\"tag\"] == \"test\":\n",
    "        cmd = row[\"command\"]\n",
    "        if \"--exclude-tag=functional\" in cmd:\n",
    "            return \"unit\"\n",
    "        elif \"--tag=functional\" in cmd:\n",
    "            return \"functional\"\n",
    "        elif \"collectstatic\" in cmd or \"migrate\" in cmd:\n",
    "            return \"unit\"\n",
    "    return row[\"tag\"]\n",
    "\n",
    "df[\"tag\"] = df.apply(map_tag, axis=1)\n",
    "\n",
    "# Step 2: Split into test vs non-test\n",
    "test_df = df[df[\"tag\"].isin([\"unit\",\"functional\"])].copy()\n",
    "non_test_df = df[~df[\"tag\"].isin([\"unit\",\"functional\"])].copy()\n",
    "\n",
    "# Step 3: Aggregate only test jobs\n",
    "agg_test = (test_df.groupby([\"pipeline_id\",\"tag\",\"mode\"])\n",
    "         .agg({\n",
    "             \"timestamp\":\"first\",\n",
    "             \"command\": lambda x: \";\".join(x),\n",
    "             \"duration_s\":\"sum\",\n",
    "             \"exit_code\":\"max\",\n",
    "             \"cpu_pct_avg\":\"mean\",\n",
    "             \"mem_kb_max\":\"max\",\n",
    "             \"status\": lambda x: \"fail\" if \"fail\" in x.values else \"pass\"\n",
    "         })\n",
    "         .reset_index())\n",
    "\n",
    "# Step 4: Reorder columns\n",
    "agg_test = agg_test[[\"timestamp\",\"command\",\"duration_s\",\"exit_code\",\n",
    "                     \"cpu_pct_avg\",\"mem_kb_max\",\"tag\",\"status\",\"pipeline_id\",\"mode\"]]\n",
    "\n",
    "non_test_df = non_test_df[[\"timestamp\",\"command\",\"duration_s\",\"exit_code\",\n",
    "                           \"cpu_pct_avg\",\"mem_kb_max\",\"tag\",\"status\",\"pipeline_id\",\"mode\"]]\n",
    "\n",
    "# Step 5: Merge back together\n",
    "normalized = pd.concat([non_test_df, agg_test]).sort_values(by=[\"timestamp\"]).reset_index(drop=True)\n",
    "\n",
    "# normalized.to_csv(\"all_logs.csv\", index=False)\n",
    "print(\"Before:\", df.shape, \"After:\", normalized.shape)\n"
   ]
  },
  {
   "cell_type": "code",
   "execution_count": null,
   "id": "f6e52b28",
   "metadata": {},
   "outputs": [
    {
     "name": "stdout",
     "output_type": "stream",
     "text": [
      "Rows before: 271\n",
      "Rows after : 271\n",
      "Removed    : 0\n"
     ]
    }
   ],
   "source": [
    "import pandas as pd\n",
    "\n",
    "# Load dataset\n",
    "df = pd.read_csv(\"all_logs.csv\")\n",
    "\n",
    "# Count before\n",
    "before = len(df)\n",
    "\n",
    "# Drop duplicates\n",
    "df = df.drop_duplicates()\n",
    "\n",
    "# Count after\n",
    "after = len(df)\n",
    "\n",
    "print(f\"Rows before: {before}\")\n",
    "print(f\"Rows after : {after}\")\n",
    "print(f\"Removed    : {before - after}\")\n",
    "\n",
    "# Save back (optional)\n",
    "# df.to_csv(\"all_logs.csv\", index=False)"
   ]
  },
  {
   "cell_type": "code",
   "execution_count": null,
   "id": "59da5693",
   "metadata": {},
   "outputs": [],
   "source": [
    "df2 = pd.read_csv(\"intelligent_test_selection.csv\")\n",
    "print(\"Before:\", len(df2))\n",
    "df2 = df2.drop_duplicates()\n",
    "print(\"After :\", len(df2))\n",
    "print(\"Removed:\", len(df2))\n",
    "# df2.to_csv(\"intelligent_test_selection.csv\", index=False)\n"
   ]
  }
 ],
 "metadata": {
  "kernelspec": {
   "display_name": "venv",
   "language": "python",
   "name": "python3"
  },
  "language_info": {
   "codemirror_mode": {
    "name": "ipython",
    "version": 3
   },
   "file_extension": ".py",
   "mimetype": "text/x-python",
   "name": "python",
   "nbconvert_exporter": "python",
   "pygments_lexer": "ipython3",
   "version": "3.11.0"
  }
 },
 "nbformat": 4,
 "nbformat_minor": 5
}
