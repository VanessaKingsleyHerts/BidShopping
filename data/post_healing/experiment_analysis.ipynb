{
 "cells": [
  {
   "cell_type": "markdown",
   "id": "29f8e13e",
   "metadata": {},
   "source": [
    "# 📊 Experiment Analysis: ML vs Baseline Healing\n",
    "This notebook compares healing effectiveness using post-healing dataset.\n"
   ]
  },
  {
   "cell_type": "code",
   "execution_count": null,
   "id": "210fe2a8",
   "metadata": {},
   "outputs": [],
   "source": [
    "import pandas as pd, glob, os\n",
    "import numpy as np\n",
    "import seaborn as sns\n",
    "import matplotlib.pyplot as plt\n",
    "from scipy.stats import chi2_contingency, ttest_ind, f_oneway\n",
    "\n",
    "# Load data\n",
    "df = pd.read_csv(\"all_logs.csv\")\n",
    "df = df[df[\"mode\"].isin([\"ml\", \"baseline\"])]  # Exclude NaNs\n"
   ]
  },
  {
   "cell_type": "markdown",
   "id": "b4eb6bd6",
   "metadata": {},
   "source": [
    "## 1. Sample Size Check"
   ]
  },
  {
   "cell_type": "code",
   "execution_count": 2,
   "id": "f7749df2",
   "metadata": {},
   "outputs": [
    {
     "data": {
      "text/plain": [
       "mode\n",
       "ml          360\n",
       "baseline    230\n",
       "Name: count, dtype: int64"
      ]
     },
     "execution_count": 2,
     "metadata": {},
     "output_type": "execute_result"
    }
   ],
   "source": [
    "df['mode'].value_counts()"
   ]
  },
  {
   "cell_type": "markdown",
   "id": "26ed43e5",
   "metadata": {},
   "source": [
    "## 2. Failure Rate Comparison (Chi-square test)"
   ]
  },
  {
   "cell_type": "code",
   "execution_count": 3,
   "id": "67610ffa",
   "metadata": {},
   "outputs": [
    {
     "name": "stdout",
     "output_type": "stream",
     "text": [
      "Chi-square p-value: 0.1426\n"
     ]
    },
    {
     "data": {
      "text/html": [
       "<div>\n",
       "<style scoped>\n",
       "    .dataframe tbody tr th:only-of-type {\n",
       "        vertical-align: middle;\n",
       "    }\n",
       "\n",
       "    .dataframe tbody tr th {\n",
       "        vertical-align: top;\n",
       "    }\n",
       "\n",
       "    .dataframe thead th {\n",
       "        text-align: right;\n",
       "    }\n",
       "</style>\n",
       "<table border=\"1\" class=\"dataframe\">\n",
       "  <thead>\n",
       "    <tr style=\"text-align: right;\">\n",
       "      <th>status</th>\n",
       "      <th>fail</th>\n",
       "      <th>pass</th>\n",
       "    </tr>\n",
       "    <tr>\n",
       "      <th>mode</th>\n",
       "      <th></th>\n",
       "      <th></th>\n",
       "    </tr>\n",
       "  </thead>\n",
       "  <tbody>\n",
       "    <tr>\n",
       "      <th>baseline</th>\n",
       "      <td>46</td>\n",
       "      <td>184</td>\n",
       "    </tr>\n",
       "    <tr>\n",
       "      <th>ml</th>\n",
       "      <td>54</td>\n",
       "      <td>306</td>\n",
       "    </tr>\n",
       "  </tbody>\n",
       "</table>\n",
       "</div>"
      ],
      "text/plain": [
       "status    fail  pass\n",
       "mode                \n",
       "baseline    46   184\n",
       "ml          54   306"
      ]
     },
     "execution_count": 3,
     "metadata": {},
     "output_type": "execute_result"
    }
   ],
   "source": [
    "# Build contingency table\n",
    "contingency = pd.crosstab(df['mode'], df['status'])\n",
    "chi2, p, _, _ = chi2_contingency(contingency)\n",
    "print(\"Chi-square p-value:\", round(p, 4))\n",
    "contingency"
   ]
  },
  {
   "cell_type": "markdown",
   "id": "29b2b779",
   "metadata": {},
   "source": [
    "## 3. MTTR Comparison (T-test or ANOVA)"
   ]
  },
  {
   "cell_type": "code",
   "execution_count": 4,
   "id": "ba6765a5",
   "metadata": {},
   "outputs": [
    {
     "name": "stdout",
     "output_type": "stream",
     "text": [
      "T-test p-value: 0.0003\n"
     ]
    }
   ],
   "source": [
    "df['duration_s'] = pd.to_numeric(df['duration_s'], errors='coerce')\n",
    "baseline_durations = df[df['mode'] == 'baseline']['duration_s'].dropna()\n",
    "ml_durations = df[df['mode'] == 'ml']['duration_s'].dropna()\n",
    "t_stat, p_val = ttest_ind(baseline_durations, ml_durations, equal_var=False)\n",
    "print(f\"T-test p-value: {round(p_val, 4)}\")"
   ]
  },
  {
   "cell_type": "markdown",
   "id": "a956090a",
   "metadata": {},
   "source": [
    "## 4. CPU and Memory Usage Comparison (ANOVA)"
   ]
  },
  {
   "cell_type": "code",
   "execution_count": 5,
   "id": "7534562e",
   "metadata": {},
   "outputs": [
    {
     "name": "stdout",
     "output_type": "stream",
     "text": [
      "\n",
      "== CPU_PCT_AVG ==\n",
      "ANOVA p-value: 0.0\n",
      "\n",
      "== MEM_KB_MAX ==\n",
      "ANOVA p-value: 0.0688\n"
     ]
    }
   ],
   "source": [
    "for metric in ['cpu_pct_avg', 'mem_kb_max']:\n",
    "    print(f\"\\n== {metric.upper()} ==\")\n",
    "    base_vals = pd.to_numeric(df[df['mode'] == 'baseline'][metric], errors='coerce')\n",
    "    ml_vals = pd.to_numeric(df[df['mode'] == 'ml'][metric], errors='coerce')\n",
    "    f_stat, p_val = f_oneway(base_vals.dropna(), ml_vals.dropna())\n",
    "    print(f\"ANOVA p-value: {round(p_val, 4)}\")"
   ]
  },
  {
   "cell_type": "markdown",
   "id": "a1b318da",
   "metadata": {},
   "source": [
    "## 5. Visualization: Boxplots for Duration, CPU, Memory"
   ]
  },
  {
   "cell_type": "code",
   "execution_count": 6,
   "id": "047e35cf",
   "metadata": {},
   "outputs": [
    {
     "data": {
      "image/png": "[encoded data removed]",
      "text/plain": [
       "<Figure size 1800x500 with 3 Axes>"
      ]
     },
     "metadata": {},
     "output_type": "display_data"
    }
   ],
   "source": [
    "sns.set(style=\"whitegrid\")\n",
    "fig, axes = plt.subplots(1, 3, figsize=(18, 5))\n",
    "\n",
    "sns.boxplot(x=\"mode\", y=\"duration_s\", data=df, ax=axes[0]).set_title(\"Duration (s)\")\n",
    "sns.boxplot(x=\"mode\", y=\"cpu_pct_avg\", data=df, ax=axes[1]).set_title(\"CPU % Avg\")\n",
    "sns.boxplot(x=\"mode\", y=\"mem_kb_max\", data=df, ax=axes[2]).set_title(\"Memory KB Max\")\n",
    "\n",
    "plt.tight_layout()\n",
    "plt.show()"
   ]
  }
 ],
 "metadata": {
  "kernelspec": {
   "display_name": "venv",
   "language": "python",
   "name": "python3"
  },
  "language_info": {
   "codemirror_mode": {
    "name": "ipython",
    "version": 3
   },
   "file_extension": ".py",
   "mimetype": "text/x-python",
   "name": "python",
   "nbconvert_exporter": "python",
   "pygments_lexer": "ipython3",
   "version": "3.11.0"
  }
 },
 "nbformat": 4,
 "nbformat_minor": 5
}
