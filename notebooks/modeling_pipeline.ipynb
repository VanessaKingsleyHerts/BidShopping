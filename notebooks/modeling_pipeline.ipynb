{
 "cells": [
  {
   "cell_type": "code",
   "execution_count": 3,
   "id": "d0c7ad88-d2fd-414e-91e2-7839298fd947",
   "metadata": {},
   "outputs": [],
   "source": [
    "import pandas as pd\n",
    "import numpy as np\n",
    "import matplotlib.pyplot as plt\n",
    "import seaborn as sns\n",
    "\n",
    "from sklearn.model_selection import train_test_split\n",
    "from sklearn.linear_model import LogisticRegression\n",
    "from sklearn.ensemble import RandomForestClassifier\n",
    "from sklearn.metrics import classification_report, confusion_matrix\n",
    "\n",
    "pd.set_option(\"display.max_columns\", None)\n",
    "sns.set(style=\"whitegrid\")\n"
   ]
  },
  {
   "cell_type": "code",
   "execution_count": 5,
   "id": "1fe5d29c-137b-45ff-a212-13dab4659929",
   "metadata": {},
   "outputs": [
    {
     "data": {
      "text/html": [
       "<div>\n",
       "<style scoped>\n",
       "    .dataframe tbody tr th:only-of-type {\n",
       "        vertical-align: middle;\n",
       "    }\n",
       "\n",
       "    .dataframe tbody tr th {\n",
       "        vertical-align: top;\n",
       "    }\n",
       "\n",
       "    .dataframe thead th {\n",
       "        text-align: right;\n",
       "    }\n",
       "</style>\n",
       "<table border=\"1\" class=\"dataframe\">\n",
       "  <thead>\n",
       "    <tr style=\"text-align: right;\">\n",
       "      <th></th>\n",
       "      <th>timestamp</th>\n",
       "      <th>command</th>\n",
       "      <th>duration_s</th>\n",
       "      <th>exit_code</th>\n",
       "      <th>cpu_pct_avg</th>\n",
       "      <th>mem_kb_max</th>\n",
       "      <th>tag</th>\n",
       "      <th>status</th>\n",
       "      <th>pipeline_id</th>\n",
       "    </tr>\n",
       "  </thead>\n",
       "  <tbody>\n",
       "    <tr>\n",
       "      <th>0</th>\n",
       "      <td>2025-06-15 07:52:08</td>\n",
       "      <td>docker login -u \"gitlab-ci-token\" -p \"glcbt-ey...</td>\n",
       "      <td>0.50</td>\n",
       "      <td>0</td>\n",
       "      <td>6.10</td>\n",
       "      <td>0</td>\n",
       "      <td>build</td>\n",
       "      <td>pass</td>\n",
       "      <td>NaN</td>\n",
       "    </tr>\n",
       "    <tr>\n",
       "      <th>1</th>\n",
       "      <td>2025-06-15 07:53:36</td>\n",
       "      <td>docker build -t \"registry.gitlab.com/uhthesis/...</td>\n",
       "      <td>87.66</td>\n",
       "      <td>0</td>\n",
       "      <td>41.04</td>\n",
       "      <td>44680</td>\n",
       "      <td>build</td>\n",
       "      <td>pass</td>\n",
       "      <td>NaN</td>\n",
       "    </tr>\n",
       "    <tr>\n",
       "      <th>2</th>\n",
       "      <td>2025-06-15 07:54:30</td>\n",
       "      <td>docker push \"registry.gitlab.com/uhthesis/bids...</td>\n",
       "      <td>53.10</td>\n",
       "      <td>0</td>\n",
       "      <td>55.44</td>\n",
       "      <td>36724</td>\n",
       "      <td>build</td>\n",
       "      <td>pass</td>\n",
       "      <td>NaN</td>\n",
       "    </tr>\n",
       "    <tr>\n",
       "      <th>3</th>\n",
       "      <td>2025-06-15 07:55:27</td>\n",
       "      <td>flake8 .</td>\n",
       "      <td>1.00</td>\n",
       "      <td>0</td>\n",
       "      <td>48.50</td>\n",
       "      <td>22424</td>\n",
       "      <td>lint</td>\n",
       "      <td>pass</td>\n",
       "      <td>NaN</td>\n",
       "    </tr>\n",
       "    <tr>\n",
       "      <th>4</th>\n",
       "      <td>2025-06-15 07:56:24</td>\n",
       "      <td>python manage.py collectstatic --noinput</td>\n",
       "      <td>0.50</td>\n",
       "      <td>0</td>\n",
       "      <td>32.00</td>\n",
       "      <td>0</td>\n",
       "      <td>test</td>\n",
       "      <td>pass</td>\n",
       "      <td>NaN</td>\n",
       "    </tr>\n",
       "  </tbody>\n",
       "</table>\n",
       "</div>"
      ],
      "text/plain": [
       "             timestamp                                            command  \\\n",
       "0  2025-06-15 07:52:08  docker login -u \"gitlab-ci-token\" -p \"glcbt-ey...   \n",
       "1  2025-06-15 07:53:36  docker build -t \"registry.gitlab.com/uhthesis/...   \n",
       "2  2025-06-15 07:54:30  docker push \"registry.gitlab.com/uhthesis/bids...   \n",
       "3  2025-06-15 07:55:27                                           flake8 .   \n",
       "4  2025-06-15 07:56:24           python manage.py collectstatic --noinput   \n",
       "\n",
       "   duration_s  exit_code  cpu_pct_avg  mem_kb_max    tag status  pipeline_id  \n",
       "0        0.50          0         6.10           0  build   pass          NaN  \n",
       "1       87.66          0        41.04       44680  build   pass          NaN  \n",
       "2       53.10          0        55.44       36724  build   pass          NaN  \n",
       "3        1.00          0        48.50       22424   lint   pass          NaN  \n",
       "4        0.50          0        32.00           0   test   pass          NaN  "
      ]
     },
     "execution_count": 5,
     "metadata": {},
     "output_type": "execute_result"
    }
   ],
   "source": [
    "# Load the full CI logs dataset\n",
    "df = pd.read_csv(\"../data/all_logs.csv\")\n",
    "\n",
    "# Preview structure\n",
    "df.head()\n"
   ]
  },
  {
   "cell_type": "code",
   "execution_count": 6,
   "id": "993b0a0f-70e7-470a-83cc-649b2e639808",
   "metadata": {},
   "outputs": [
    {
     "data": {
      "text/html": [
       "<div>\n",
       "<style scoped>\n",
       "    .dataframe tbody tr th:only-of-type {\n",
       "        vertical-align: middle;\n",
       "    }\n",
       "\n",
       "    .dataframe tbody tr th {\n",
       "        vertical-align: top;\n",
       "    }\n",
       "\n",
       "    .dataframe thead th {\n",
       "        text-align: right;\n",
       "    }\n",
       "</style>\n",
       "<table border=\"1\" class=\"dataframe\">\n",
       "  <thead>\n",
       "    <tr style=\"text-align: right;\">\n",
       "      <th></th>\n",
       "      <th>cpu_pct_avg</th>\n",
       "      <th>status</th>\n",
       "      <th>hour</th>\n",
       "      <th>dayofweek</th>\n",
       "      <th>mem_mb</th>\n",
       "      <th>log_duration</th>\n",
       "      <th>tag_code</th>\n",
       "    </tr>\n",
       "  </thead>\n",
       "  <tbody>\n",
       "    <tr>\n",
       "      <th>0</th>\n",
       "      <td>6.10</td>\n",
       "      <td>1</td>\n",
       "      <td>7</td>\n",
       "      <td>6</td>\n",
       "      <td>0.000000</td>\n",
       "      <td>0.405465</td>\n",
       "      <td>0</td>\n",
       "    </tr>\n",
       "    <tr>\n",
       "      <th>1</th>\n",
       "      <td>41.04</td>\n",
       "      <td>1</td>\n",
       "      <td>7</td>\n",
       "      <td>6</td>\n",
       "      <td>43.632812</td>\n",
       "      <td>4.484809</td>\n",
       "      <td>0</td>\n",
       "    </tr>\n",
       "    <tr>\n",
       "      <th>2</th>\n",
       "      <td>55.44</td>\n",
       "      <td>1</td>\n",
       "      <td>7</td>\n",
       "      <td>6</td>\n",
       "      <td>35.863281</td>\n",
       "      <td>3.990834</td>\n",
       "      <td>0</td>\n",
       "    </tr>\n",
       "    <tr>\n",
       "      <th>3</th>\n",
       "      <td>48.50</td>\n",
       "      <td>1</td>\n",
       "      <td>7</td>\n",
       "      <td>6</td>\n",
       "      <td>21.898438</td>\n",
       "      <td>0.693147</td>\n",
       "      <td>1</td>\n",
       "    </tr>\n",
       "    <tr>\n",
       "      <th>4</th>\n",
       "      <td>32.00</td>\n",
       "      <td>1</td>\n",
       "      <td>7</td>\n",
       "      <td>6</td>\n",
       "      <td>0.000000</td>\n",
       "      <td>0.405465</td>\n",
       "      <td>2</td>\n",
       "    </tr>\n",
       "  </tbody>\n",
       "</table>\n",
       "</div>"
      ],
      "text/plain": [
       "   cpu_pct_avg  status  hour  dayofweek     mem_mb  log_duration  tag_code\n",
       "0         6.10       1     7          6   0.000000      0.405465         0\n",
       "1        41.04       1     7          6  43.632812      4.484809         0\n",
       "2        55.44       1     7          6  35.863281      3.990834         0\n",
       "3        48.50       1     7          6  21.898438      0.693147         1\n",
       "4        32.00       1     7          6   0.000000      0.405465         2"
      ]
     },
     "execution_count": 6,
     "metadata": {},
     "output_type": "execute_result"
    }
   ],
   "source": [
    "# Drop columns we don't want\n",
    "df = df.drop(columns=[\"command\", \"exit_code\", \"pipeline_id\"])\n",
    "\n",
    "# Convert timestamp\n",
    "df[\"timestamp\"] = pd.to_datetime(df[\"timestamp\"])\n",
    "df[\"hour\"] = df[\"timestamp\"].dt.hour\n",
    "df[\"dayofweek\"] = df[\"timestamp\"].dt.dayofweek\n",
    "\n",
    "# Drop timestamp if you don't need time-series modeling\n",
    "df = df.drop(columns=[\"timestamp\"])\n",
    "\n",
    "# Convert memory to MB\n",
    "df[\"mem_mb\"] = df[\"mem_kb_max\"] / 1024\n",
    "df.drop(columns=[\"mem_kb_max\"], inplace=True)\n",
    "\n",
    "# Log-transform duration\n",
    "df[\"log_duration\"] = np.log1p(df[\"duration_s\"])\n",
    "df.drop(columns=[\"duration_s\"], inplace=True)\n",
    "\n",
    "# Encode tag (CI stage)\n",
    "df[\"tag_code\"] = df[\"tag\"].astype(\"category\").cat.codes\n",
    "df.drop(columns=[\"tag\"], inplace=True)\n",
    "\n",
    "# Encode target\n",
    "df[\"status\"] = df[\"status\"].map({\"pass\": 1, \"fail\": 0})\n",
    "\n",
    "# Final preview\n",
    "df.head()\n",
    "\n",
    "# result - 6 columns representing the 6 input features\n",
    "# tag column refers to the CI job type - 0 = build, 1 = lint, 2 = test\n"
   ]
  },
  {
   "cell_type": "code",
   "execution_count": 7,
   "id": "2d60af87-6e2f-4862-a34d-15ad37f8a899",
   "metadata": {},
   "outputs": [
    {
     "data": {
      "text/plain": [
       "((231, 6), (58, 6))"
      ]
     },
     "execution_count": 7,
     "metadata": {},
     "output_type": "execute_result"
    }
   ],
   "source": [
    "X = df.drop(\"status\", axis=1)\n",
    "y = df[\"status\"]\n",
    "\n",
    "X_train, X_test, y_train, y_test = train_test_split(\n",
    "    X, y, stratify=y, test_size=0.2, random_state=42\n",
    ")\n",
    "\n",
    "X_train.shape, X_test.shape\n",
    "\n",
    "# result - example: ((231, 6), (58, 6)) = 231 samples in the training set, 58 samples in the test set, Each with 6 features\n"
   ]
  },
  {
   "cell_type": "code",
   "execution_count": 8,
   "id": "2336e158-4db2-4be8-808b-6f3bc9c7c783",
   "metadata": {},
   "outputs": [
    {
     "name": "stdout",
     "output_type": "stream",
     "text": [
      "Logistic Regression Performance\n",
      "              precision    recall  f1-score   support\n",
      "\n",
      "        fail       0.00      0.00      0.00         7\n",
      "        pass       0.88      1.00      0.94        51\n",
      "\n",
      "    accuracy                           0.88        58\n",
      "   macro avg       0.44      0.50      0.47        58\n",
      "weighted avg       0.77      0.88      0.82        58\n",
      "\n"
     ]
    },
    {
     "name": "stderr",
     "output_type": "stream",
     "text": [
      "c:\\Users\\ehiva\\.virtualenvs\\BidShopping-6P6NKj0h\\Lib\\site-packages\\sklearn\\metrics\\_classification.py:1706: UndefinedMetricWarning: Precision is ill-defined and being set to 0.0 in labels with no predicted samples. Use `zero_division` parameter to control this behavior.\n",
      "  _warn_prf(average, modifier, f\"{metric.capitalize()} is\", result.shape[0])\n",
      "c:\\Users\\ehiva\\.virtualenvs\\BidShopping-6P6NKj0h\\Lib\\site-packages\\sklearn\\metrics\\_classification.py:1706: UndefinedMetricWarning: Precision is ill-defined and being set to 0.0 in labels with no predicted samples. Use `zero_division` parameter to control this behavior.\n",
      "  _warn_prf(average, modifier, f\"{metric.capitalize()} is\", result.shape[0])\n",
      "c:\\Users\\ehiva\\.virtualenvs\\BidShopping-6P6NKj0h\\Lib\\site-packages\\sklearn\\metrics\\_classification.py:1706: UndefinedMetricWarning: Precision is ill-defined and being set to 0.0 in labels with no predicted samples. Use `zero_division` parameter to control this behavior.\n",
      "  _warn_prf(average, modifier, f\"{metric.capitalize()} is\", result.shape[0])\n"
     ]
    }
   ],
   "source": [
    "lr = LogisticRegression(max_iter=1000)\n",
    "lr.fit(X_train, y_train)\n",
    "y_pred_lr = lr.predict(X_test)\n",
    "\n",
    "print(\"Logistic Regression Performance\")\n",
    "print(classification_report(y_test, y_pred_lr, target_names=[\"fail\", \"pass\"]))\n"
   ]
  },
  {
   "cell_type": "code",
   "execution_count": 9,
   "id": "066fcb33-5738-4749-945c-0211fec8e32a",
   "metadata": {},
   "outputs": [
    {
     "name": "stdout",
     "output_type": "stream",
     "text": [
      "Random Forest Performance\n",
      "              precision    recall  f1-score   support\n",
      "\n",
      "        fail       1.00      0.57      0.73         7\n",
      "        pass       0.94      1.00      0.97        51\n",
      "\n",
      "    accuracy                           0.95        58\n",
      "   macro avg       0.97      0.79      0.85        58\n",
      "weighted avg       0.95      0.95      0.94        58\n",
      "\n"
     ]
    }
   ],
   "source": [
    "rf = RandomForestClassifier(n_estimators=100, class_weight=\"balanced\", random_state=42)\n",
    "rf.fit(X_train, y_train)\n",
    "y_pred_rf = rf.predict(X_test)\n",
    "\n",
    "print(\"Random Forest Performance\")\n",
    "print(classification_report(y_test, y_pred_rf, target_names=[\"fail\", \"pass\"]))\n"
   ]
  },
  {
   "cell_type": "code",
   "execution_count": 10,
   "id": "92e3dc53-8120-419a-9464-56711f83271e",
   "metadata": {},
   "outputs": [
    {
     "data": {
      "image/png": "[encoded data removed]",
      "text/plain": [
       "<Figure size 640x480 with 2 Axes>"
      ]
     },
     "metadata": {},
     "output_type": "display_data"
    }
   ],
   "source": [
    "cm = confusion_matrix(y_test, y_pred_rf)\n",
    "\n",
    "sns.heatmap(cm, annot=True, fmt=\"d\", cmap=\"Blues\", xticklabels=[\"fail\", \"pass\"], yticklabels=[\"fail\", \"pass\"])\n",
    "plt.xlabel(\"Predicted\")\n",
    "plt.ylabel(\"Actual\")\n",
    "plt.title(\"Confusion Matrix: Random Forest\")\n",
    "plt.show()\n"
   ]
  }
 ],
 "metadata": {
  "kernelspec": {
   "display_name": "BidShopping-6P6NKj0h",
   "language": "python",
   "name": "python3"
  },
  "language_info": {
   "codemirror_mode": {
    "name": "ipython",
    "version": 3
   },
   "file_extension": ".py",
   "mimetype": "text/x-python",
   "name": "python",
   "nbconvert_exporter": "python",
   "pygments_lexer": "ipython3",
   "version": "3.13.1"
  }
 },
 "nbformat": 4,
 "nbformat_minor": 5
}
