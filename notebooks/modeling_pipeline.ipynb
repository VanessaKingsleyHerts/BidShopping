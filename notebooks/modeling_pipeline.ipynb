{
 "cells": [
  {
   "cell_type": "code",
   "execution_count": 1,
   "id": "d0c7ad88-d2fd-414e-91e2-7839298fd947",
   "metadata": {},
   "outputs": [],
   "source": [
    "import pandas as pd\n",
    "import numpy as np\n",
    "import matplotlib.pyplot as plt\n",
    "import seaborn as sns\n",
    "\n",
    "from sklearn.model_selection import train_test_split\n",
    "from sklearn.linear_model import LogisticRegression\n",
    "from sklearn.ensemble import RandomForestClassifier\n",
    "from sklearn.metrics import classification_report, confusion_matrix\n",
    "from xgboost import XGBClassifier\n",
    "\n",
    "pd.set_option(\"display.max_columns\", None)\n",
    "sns.set(style=\"whitegrid\")\n"
   ]
  },
  {
   "cell_type": "code",
   "execution_count": 2,
   "id": "1fe5d29c-137b-45ff-a212-13dab4659929",
   "metadata": {},
   "outputs": [
    {
     "data": {
      "text/html": [
       "<div>\n",
       "<style scoped>\n",
       "    .dataframe tbody tr th:only-of-type {\n",
       "        vertical-align: middle;\n",
       "    }\n",
       "\n",
       "    .dataframe tbody tr th {\n",
       "        vertical-align: top;\n",
       "    }\n",
       "\n",
       "    .dataframe thead th {\n",
       "        text-align: right;\n",
       "    }\n",
       "</style>\n",
       "<table border=\"1\" class=\"dataframe\">\n",
       "  <thead>\n",
       "    <tr style=\"text-align: right;\">\n",
       "      <th></th>\n",
       "      <th>timestamp</th>\n",
       "      <th>command</th>\n",
       "      <th>duration_s</th>\n",
       "      <th>exit_code</th>\n",
       "      <th>cpu_pct_avg</th>\n",
       "      <th>mem_kb_max</th>\n",
       "      <th>tag</th>\n",
       "      <th>status</th>\n",
       "      <th>pipeline_id</th>\n",
       "    </tr>\n",
       "  </thead>\n",
       "  <tbody>\n",
       "    <tr>\n",
       "      <th>0</th>\n",
       "      <td>2025-06-15 07:17:52</td>\n",
       "      <td>docker login -u \"gitlab-ci-token\" -p \"glcbt-ey...</td>\n",
       "      <td>0.50</td>\n",
       "      <td>0</td>\n",
       "      <td>6.10</td>\n",
       "      <td>0</td>\n",
       "      <td>unknown</td>\n",
       "      <td>pass</td>\n",
       "      <td>1.870500e+09</td>\n",
       "    </tr>\n",
       "    <tr>\n",
       "      <th>1</th>\n",
       "      <td>2025-06-15 07:19:14</td>\n",
       "      <td>docker build -t \"registry.gitlab.com/uhthesis/...</td>\n",
       "      <td>82.14</td>\n",
       "      <td>0</td>\n",
       "      <td>40.59</td>\n",
       "      <td>46396</td>\n",
       "      <td>unknown</td>\n",
       "      <td>pass</td>\n",
       "      <td>1.870500e+09</td>\n",
       "    </tr>\n",
       "    <tr>\n",
       "      <th>2</th>\n",
       "      <td>2025-06-15 07:20:06</td>\n",
       "      <td>docker push \"registry.gitlab.com/uhthesis/bids...</td>\n",
       "      <td>51.59</td>\n",
       "      <td>0</td>\n",
       "      <td>55.48</td>\n",
       "      <td>37844</td>\n",
       "      <td>unknown</td>\n",
       "      <td>pass</td>\n",
       "      <td>1.870500e+09</td>\n",
       "    </tr>\n",
       "    <tr>\n",
       "      <th>3</th>\n",
       "      <td>2025-06-15 07:21:05</td>\n",
       "      <td>flake8 .</td>\n",
       "      <td>1.00</td>\n",
       "      <td>0</td>\n",
       "      <td>48.15</td>\n",
       "      <td>22600</td>\n",
       "      <td>unknown</td>\n",
       "      <td>pass</td>\n",
       "      <td>1.870500e+09</td>\n",
       "    </tr>\n",
       "    <tr>\n",
       "      <th>4</th>\n",
       "      <td>2025-06-15 07:22:02</td>\n",
       "      <td>python manage.py collectstatic --noinput</td>\n",
       "      <td>0.50</td>\n",
       "      <td>0</td>\n",
       "      <td>35.40</td>\n",
       "      <td>0</td>\n",
       "      <td>unknown</td>\n",
       "      <td>pass</td>\n",
       "      <td>1.870500e+09</td>\n",
       "    </tr>\n",
       "  </tbody>\n",
       "</table>\n",
       "</div>"
      ],
      "text/plain": [
       "             timestamp                                            command  \\\n",
       "0  2025-06-15 07:17:52  docker login -u \"gitlab-ci-token\" -p \"glcbt-ey...   \n",
       "1  2025-06-15 07:19:14  docker build -t \"registry.gitlab.com/uhthesis/...   \n",
       "2  2025-06-15 07:20:06  docker push \"registry.gitlab.com/uhthesis/bids...   \n",
       "3  2025-06-15 07:21:05                                           flake8 .   \n",
       "4  2025-06-15 07:22:02           python manage.py collectstatic --noinput   \n",
       "\n",
       "   duration_s  exit_code  cpu_pct_avg  mem_kb_max      tag status  \\\n",
       "0        0.50          0         6.10           0  unknown   pass   \n",
       "1       82.14          0        40.59       46396  unknown   pass   \n",
       "2       51.59          0        55.48       37844  unknown   pass   \n",
       "3        1.00          0        48.15       22600  unknown   pass   \n",
       "4        0.50          0        35.40           0  unknown   pass   \n",
       "\n",
       "    pipeline_id  \n",
       "0  1.870500e+09  \n",
       "1  1.870500e+09  \n",
       "2  1.870500e+09  \n",
       "3  1.870500e+09  \n",
       "4  1.870500e+09  "
      ]
     },
     "execution_count": 2,
     "metadata": {},
     "output_type": "execute_result"
    }
   ],
   "source": [
    "# Load the full CI logs dataset\n",
    "df = pd.read_csv(\"../data/all_logs.csv\")\n",
    "\n",
    "# Preview structure\n",
    "df.head()\n"
   ]
  },
  {
   "cell_type": "code",
   "execution_count": 3,
   "id": "993b0a0f-70e7-470a-83cc-649b2e639808",
   "metadata": {},
   "outputs": [
    {
     "data": {
      "text/html": [
       "<div>\n",
       "<style scoped>\n",
       "    .dataframe tbody tr th:only-of-type {\n",
       "        vertical-align: middle;\n",
       "    }\n",
       "\n",
       "    .dataframe tbody tr th {\n",
       "        vertical-align: top;\n",
       "    }\n",
       "\n",
       "    .dataframe thead th {\n",
       "        text-align: right;\n",
       "    }\n",
       "</style>\n",
       "<table border=\"1\" class=\"dataframe\">\n",
       "  <thead>\n",
       "    <tr style=\"text-align: right;\">\n",
       "      <th></th>\n",
       "      <th>cpu_pct_avg</th>\n",
       "      <th>status</th>\n",
       "      <th>hour</th>\n",
       "      <th>dayofweek</th>\n",
       "      <th>mem_mb</th>\n",
       "      <th>log_duration</th>\n",
       "      <th>tag_code</th>\n",
       "    </tr>\n",
       "  </thead>\n",
       "  <tbody>\n",
       "    <tr>\n",
       "      <th>0</th>\n",
       "      <td>6.10</td>\n",
       "      <td>1</td>\n",
       "      <td>7</td>\n",
       "      <td>6</td>\n",
       "      <td>0.000000</td>\n",
       "      <td>0.405465</td>\n",
       "      <td>3</td>\n",
       "    </tr>\n",
       "    <tr>\n",
       "      <th>1</th>\n",
       "      <td>40.59</td>\n",
       "      <td>1</td>\n",
       "      <td>7</td>\n",
       "      <td>6</td>\n",
       "      <td>45.308594</td>\n",
       "      <td>4.420526</td>\n",
       "      <td>3</td>\n",
       "    </tr>\n",
       "    <tr>\n",
       "      <th>2</th>\n",
       "      <td>55.48</td>\n",
       "      <td>1</td>\n",
       "      <td>7</td>\n",
       "      <td>6</td>\n",
       "      <td>36.957031</td>\n",
       "      <td>3.962526</td>\n",
       "      <td>3</td>\n",
       "    </tr>\n",
       "    <tr>\n",
       "      <th>3</th>\n",
       "      <td>48.15</td>\n",
       "      <td>1</td>\n",
       "      <td>7</td>\n",
       "      <td>6</td>\n",
       "      <td>22.070312</td>\n",
       "      <td>0.693147</td>\n",
       "      <td>3</td>\n",
       "    </tr>\n",
       "    <tr>\n",
       "      <th>4</th>\n",
       "      <td>35.40</td>\n",
       "      <td>1</td>\n",
       "      <td>7</td>\n",
       "      <td>6</td>\n",
       "      <td>0.000000</td>\n",
       "      <td>0.405465</td>\n",
       "      <td>3</td>\n",
       "    </tr>\n",
       "  </tbody>\n",
       "</table>\n",
       "</div>"
      ],
      "text/plain": [
       "   cpu_pct_avg  status  hour  dayofweek     mem_mb  log_duration  tag_code\n",
       "0         6.10       1     7          6   0.000000      0.405465         3\n",
       "1        40.59       1     7          6  45.308594      4.420526         3\n",
       "2        55.48       1     7          6  36.957031      3.962526         3\n",
       "3        48.15       1     7          6  22.070312      0.693147         3\n",
       "4        35.40       1     7          6   0.000000      0.405465         3"
      ]
     },
     "execution_count": 3,
     "metadata": {},
     "output_type": "execute_result"
    }
   ],
   "source": [
    "# Drop columns we don't want\n",
    "df = df.drop(columns=[\"command\", \"exit_code\", \"pipeline_id\"])\n",
    "\n",
    "# Convert timestamp\n",
    "df[\"timestamp\"] = pd.to_datetime(df[\"timestamp\"])\n",
    "df[\"hour\"] = df[\"timestamp\"].dt.hour\n",
    "df[\"dayofweek\"] = df[\"timestamp\"].dt.dayofweek\n",
    "\n",
    "# Drop timestamp if you don't need time-series modeling\n",
    "df = df.drop(columns=[\"timestamp\"])\n",
    "\n",
    "# Convert memory to MB\n",
    "df[\"mem_mb\"] = df[\"mem_kb_max\"] / 1024\n",
    "df.drop(columns=[\"mem_kb_max\"], inplace=True)\n",
    "\n",
    "# Log-transform duration\n",
    "df[\"log_duration\"] = np.log1p(df[\"duration_s\"])\n",
    "df.drop(columns=[\"duration_s\"], inplace=True)\n",
    "\n",
    "# Encode tag (CI stage)\n",
    "df[\"tag_code\"] = df[\"tag\"].astype(\"category\").cat.codes\n",
    "df.drop(columns=[\"tag\"], inplace=True)\n",
    "\n",
    "# Encode target\n",
    "df[\"status\"] = df[\"status\"].map({\"pass\": 1, \"fail\": 0})\n",
    "\n",
    "# Final preview\n",
    "df.head()\n",
    "\n",
    "# result - 6 columns representing the 6 input features\n",
    "# tag column refers to the CI job type - 0 = build, 1 = lint, 2 = test\n"
   ]
  },
  {
   "cell_type": "code",
   "execution_count": 4,
   "id": "2d60af87-6e2f-4862-a34d-15ad37f8a899",
   "metadata": {},
   "outputs": [
    {
     "data": {
      "text/plain": [
       "((259, 6), (65, 6))"
      ]
     },
     "execution_count": 4,
     "metadata": {},
     "output_type": "execute_result"
    }
   ],
   "source": [
    "X = df.drop(\"status\", axis=1)\n",
    "y = df[\"status\"]\n",
    "\n",
    "X_train, X_test, y_train, y_test = train_test_split(\n",
    "    X, y, stratify=y, test_size=0.2, random_state=42\n",
    ")\n",
    "\n",
    "X_train.shape, X_test.shape\n",
    "\n",
    "# result - example: ((231, 6), (58, 6)) = 231 samples in the training set, 58 samples in the test set, Each with 6 features\n"
   ]
  },
  {
   "cell_type": "code",
   "execution_count": 9,
   "id": "2336e158-4db2-4be8-808b-6f3bc9c7c783",
   "metadata": {
    "scrolled": true
   },
   "outputs": [
    {
     "name": "stdout",
     "output_type": "stream",
     "text": [
      "Logistic Regression Performance\n",
      "              precision    recall  f1-score   support\n",
      "\n",
      "        fail       0.19      0.75      0.30         8\n",
      "        pass       0.94      0.54      0.69        57\n",
      "\n",
      "    accuracy                           0.57        65\n",
      "   macro avg       0.56      0.65      0.49        65\n",
      "weighted avg       0.85      0.57      0.64        65\n",
      "\n"
     ]
    }
   ],
   "source": [
    "lr = LogisticRegression(class_weight=\"balanced\", max_iter=1000)\n",
    "lr.fit(X_train, y_train)\n",
    "y_pred_lr = lr.predict(X_test)\n",
    "\n",
    "print(\"Logistic Regression Performance\")\n",
    "print(classification_report(y_test, y_pred_lr, target_names=[\"fail\", \"pass\"]))\n"
   ]
  },
  {
   "cell_type": "code",
   "execution_count": 10,
   "id": "066fcb33-5738-4749-945c-0211fec8e32a",
   "metadata": {},
   "outputs": [
    {
     "name": "stdout",
     "output_type": "stream",
     "text": [
      "Random Forest Performance\n",
      "              precision    recall  f1-score   support\n",
      "\n",
      "        fail       0.83      0.62      0.71         8\n",
      "        pass       0.95      0.98      0.97        57\n",
      "\n",
      "    accuracy                           0.94        65\n",
      "   macro avg       0.89      0.80      0.84        65\n",
      "weighted avg       0.93      0.94      0.93        65\n",
      "\n"
     ]
    }
   ],
   "source": [
    "rf = RandomForestClassifier(n_estimators=100, class_weight=\"balanced\", random_state=42)\n",
    "rf.fit(X_train, y_train)\n",
    "y_pred_rf = rf.predict(X_test)\n",
    "\n",
    "print(\"Random Forest Performance\")\n",
    "print(classification_report(y_test, y_pred_rf, target_names=[\"fail\", \"pass\"]))\n"
   ]
  },
  {
   "cell_type": "code",
   "execution_count": 7,
   "id": "f78ce5ae-c1d7-45c2-a070-4238d0ee3e54",
   "metadata": {},
   "outputs": [
    {
     "name": "stdout",
     "output_type": "stream",
     "text": [
      "XGBoost Performance\n",
      "              precision    recall  f1-score   support\n",
      "\n",
      "        fail       0.60      0.75      0.67         8\n",
      "        pass       0.96      0.93      0.95        57\n",
      "\n",
      "    accuracy                           0.91        65\n",
      "   macro avg       0.78      0.84      0.81        65\n",
      "weighted avg       0.92      0.91      0.91        65\n",
      "\n"
     ]
    }
   ],
   "source": [
    "xgb = XGBClassifier(\n",
    "    n_estimators=100,\n",
    "    max_depth=4,\n",
    "    eval_metric=\"logloss\",\n",
    "    scale_pos_weight=(y_train == 0).sum() / (y_train == 1).sum(),\n",
    "    random_state=42\n",
    ")\n",
    "\n",
    "xgb.fit(X_train, y_train)\n",
    "y_pred_xgb = xgb.predict(X_test)\n",
    "\n",
    "print(\"XGBoost Performance\")\n",
    "from sklearn.metrics import classification_report\n",
    "print(classification_report(y_test, y_pred_xgb, target_names=[\"fail\", \"pass\"]))\n"
   ]
  },
  {
   "cell_type": "code",
   "execution_count": 8,
   "id": "92e3dc53-8120-419a-9464-56711f83271e",
   "metadata": {},
   "outputs": [
    {
     "data": {
      "image/png": "[encoded data removed]",
      "text/plain": [
       "<Figure size 640x480 with 2 Axes>"
      ]
     },
     "metadata": {},
     "output_type": "display_data"
    }
   ],
   "source": [
    "cm = confusion_matrix(y_test, y_pred_rf)\n",
    "\n",
    "sns.heatmap(cm, annot=True, fmt=\"d\", cmap=\"Blues\", xticklabels=[\"fail\", \"pass\"], yticklabels=[\"fail\", \"pass\"])\n",
    "plt.xlabel(\"Predicted\")\n",
    "plt.ylabel(\"Actual\")\n",
    "plt.title(\"Confusion Matrix: Random Forest\")\n",
    "plt.show()\n"
   ]
  },
  {
   "cell_type": "code",
   "execution_count": 28,
   "id": "c7a8daef-6942-45b0-8beb-340204746a30",
   "metadata": {},
   "outputs": [
    {
     "name": "stdout",
     "output_type": "stream",
     "text": [
      "cpu_pct_avg     → 0.436\n",
      "mem_mb          → 0.213\n",
      "log_duration    → 0.146\n",
      "hour            → 0.131\n",
      "tag_code        → 0.052\n",
      "dayofweek       → 0.022\n"
     ]
    }
   ],
   "source": [
    "importances = rf.feature_importances_\n",
    "features = X_train.columns\n",
    "\n",
    "for feat, score in sorted(zip(features, importances), key=lambda x: -x[1]):\n",
    "    print(f\"{feat:15} → {score:.3f}\")"
   ]
  },
  {
   "cell_type": "code",
   "execution_count": 31,
   "id": "333309c8-b617-4868-9541-95f6d63e6db4",
   "metadata": {},
   "outputs": [
    {
     "data": {
      "text/plain": [
       "['rf_model.joblib']"
      ]
     },
     "execution_count": 31,
     "metadata": {},
     "output_type": "execute_result"
    }
   ],
   "source": [
    "import joblib\n",
    "joblib.dump(rf, \"rf_model.joblib\")"
   ]
  }
 ],
 "metadata": {
  "kernelspec": {
   "display_name": "Python 3 (ipykernel)",
   "language": "python",
   "name": "python3"
  },
  "language_info": {
   "codemirror_mode": {
    "name": "ipython",
    "version": 3
   },
   "file_extension": ".py",
   "mimetype": "text/x-python",
   "name": "python",
   "nbconvert_exporter": "python",
   "pygments_lexer": "ipython3",
   "version": "3.10.17"
  }
 },
 "nbformat": 4,
 "nbformat_minor": 5
}
